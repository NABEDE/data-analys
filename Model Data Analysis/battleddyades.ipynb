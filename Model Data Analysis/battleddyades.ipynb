{
 "cells": [
  {
   "cell_type": "code",
   "execution_count": 3,
   "metadata": {},
   "outputs": [
    {
     "data": {
      "text/html": [
       "<div>\n",
       "<style scoped>\n",
       "    .dataframe tbody tr th:only-of-type {\n",
       "        vertical-align: middle;\n",
       "    }\n",
       "\n",
       "    .dataframe tbody tr th {\n",
       "        vertical-align: top;\n",
       "    }\n",
       "\n",
       "    .dataframe thead th {\n",
       "        text-align: right;\n",
       "    }\n",
       "</style>\n",
       "<table border=\"1\" class=\"dataframe\">\n",
       "  <thead>\n",
       "    <tr style=\"text-align: right;\">\n",
       "      <th></th>\n",
       "      <th>isqno</th>\n",
       "      <th>attacker</th>\n",
       "      <th>defender</th>\n",
       "      <th>wt</th>\n",
       "      <th>dyad</th>\n",
       "      <th>direction</th>\n",
       "      <th>primary</th>\n",
       "    </tr>\n",
       "  </thead>\n",
       "  <tbody>\n",
       "    <tr>\n",
       "      <th>0</th>\n",
       "      <td>1</td>\n",
       "      <td>Spain</td>\n",
       "      <td>Dutch Republic</td>\n",
       "      <td>1.0</td>\n",
       "      <td>Dutch Republic|Spain</td>\n",
       "      <td>-1</td>\n",
       "      <td>1</td>\n",
       "    </tr>\n",
       "    <tr>\n",
       "      <th>1</th>\n",
       "      <td>2</td>\n",
       "      <td>Holy Roman Empire</td>\n",
       "      <td>Bohemia</td>\n",
       "      <td>1.0</td>\n",
       "      <td>Bohemia|Holy Roman Empire</td>\n",
       "      <td>-1</td>\n",
       "      <td>1</td>\n",
       "    </tr>\n",
       "    <tr>\n",
       "      <th>2</th>\n",
       "      <td>3</td>\n",
       "      <td>Holy Roman Empire</td>\n",
       "      <td>Protestant Union</td>\n",
       "      <td>0.5</td>\n",
       "      <td>NaN</td>\n",
       "      <td>1</td>\n",
       "      <td>1</td>\n",
       "    </tr>\n",
       "    <tr>\n",
       "      <th>3</th>\n",
       "      <td>3</td>\n",
       "      <td>Spain</td>\n",
       "      <td>Protestant Union</td>\n",
       "      <td>0.5</td>\n",
       "      <td>Protestant Union|Spain</td>\n",
       "      <td>-1</td>\n",
       "      <td>0</td>\n",
       "    </tr>\n",
       "    <tr>\n",
       "      <th>4</th>\n",
       "      <td>4</td>\n",
       "      <td>Protestant Union</td>\n",
       "      <td>Holy Roman Empire</td>\n",
       "      <td>1.0</td>\n",
       "      <td>Holy Roman Empire|Protestant Union</td>\n",
       "      <td>-1</td>\n",
       "      <td>1</td>\n",
       "    </tr>\n",
       "    <tr>\n",
       "      <th>...</th>\n",
       "      <td>...</td>\n",
       "      <td>...</td>\n",
       "      <td>...</td>\n",
       "      <td>...</td>\n",
       "      <td>...</td>\n",
       "      <td>...</td>\n",
       "      <td>...</td>\n",
       "    </tr>\n",
       "    <tr>\n",
       "      <th>673</th>\n",
       "      <td>656</td>\n",
       "      <td>Israel</td>\n",
       "      <td>Jordan</td>\n",
       "      <td>1.0</td>\n",
       "      <td>Israel|Jordan</td>\n",
       "      <td>1</td>\n",
       "      <td>1</td>\n",
       "    </tr>\n",
       "    <tr>\n",
       "      <th>674</th>\n",
       "      <td>657</td>\n",
       "      <td>Germany</td>\n",
       "      <td>France</td>\n",
       "      <td>1.0</td>\n",
       "      <td>France|Germany</td>\n",
       "      <td>-1</td>\n",
       "      <td>1</td>\n",
       "    </tr>\n",
       "    <tr>\n",
       "      <th>675</th>\n",
       "      <td>658</td>\n",
       "      <td>Germany</td>\n",
       "      <td>France</td>\n",
       "      <td>1.0</td>\n",
       "      <td>France|Germany</td>\n",
       "      <td>-1</td>\n",
       "      <td>1</td>\n",
       "    </tr>\n",
       "    <tr>\n",
       "      <th>676</th>\n",
       "      <td>659</td>\n",
       "      <td>Great Britain</td>\n",
       "      <td>Germany</td>\n",
       "      <td>1.0</td>\n",
       "      <td>Germany|Great Britain</td>\n",
       "      <td>-1</td>\n",
       "      <td>1</td>\n",
       "    </tr>\n",
       "    <tr>\n",
       "      <th>677</th>\n",
       "      <td>660</td>\n",
       "      <td>France</td>\n",
       "      <td>Germany</td>\n",
       "      <td>1.0</td>\n",
       "      <td>France|Germany</td>\n",
       "      <td>1</td>\n",
       "      <td>1</td>\n",
       "    </tr>\n",
       "  </tbody>\n",
       "</table>\n",
       "<p>678 rows × 7 columns</p>\n",
       "</div>"
      ],
      "text/plain": [
       "     isqno           attacker           defender   wt  \\\n",
       "0        1              Spain     Dutch Republic  1.0   \n",
       "1        2  Holy Roman Empire            Bohemia  1.0   \n",
       "2        3  Holy Roman Empire   Protestant Union  0.5   \n",
       "3        3              Spain   Protestant Union  0.5   \n",
       "4        4   Protestant Union  Holy Roman Empire  1.0   \n",
       "..     ...                ...                ...  ...   \n",
       "673    656             Israel             Jordan  1.0   \n",
       "674    657            Germany             France  1.0   \n",
       "675    658            Germany             France  1.0   \n",
       "676    659      Great Britain            Germany  1.0   \n",
       "677    660             France            Germany  1.0   \n",
       "\n",
       "                                   dyad  direction  primary  \n",
       "0                  Dutch Republic|Spain         -1        1  \n",
       "1             Bohemia|Holy Roman Empire         -1        1  \n",
       "2                                   NaN          1        1  \n",
       "3                Protestant Union|Spain         -1        0  \n",
       "4    Holy Roman Empire|Protestant Union         -1        1  \n",
       "..                                  ...        ...      ...  \n",
       "673                       Israel|Jordan          1        1  \n",
       "674                      France|Germany         -1        1  \n",
       "675                      France|Germany         -1        1  \n",
       "676               Germany|Great Britain         -1        1  \n",
       "677                      France|Germany          1        1  \n",
       "\n",
       "[678 rows x 7 columns]"
      ]
     },
     "execution_count": 3,
     "metadata": {},
     "output_type": "execute_result"
    }
   ],
   "source": [
    "import pandas as pdas \n",
    "import matplotlib.pyplot as plt \n",
    "import seaborn as sns \n",
    "\n",
    "#Collecting data \n",
    "data = pdas.read_csv('Dataset/battle_dyads.csv')\n",
    "\n",
    "data"
   ]
  },
  {
   "cell_type": "code",
   "execution_count": 7,
   "metadata": {},
   "outputs": [
    {
     "data": {
      "text/html": [
       "<div>\n",
       "<style scoped>\n",
       "    .dataframe tbody tr th:only-of-type {\n",
       "        vertical-align: middle;\n",
       "    }\n",
       "\n",
       "    .dataframe tbody tr th {\n",
       "        vertical-align: top;\n",
       "    }\n",
       "\n",
       "    .dataframe thead th {\n",
       "        text-align: right;\n",
       "    }\n",
       "</style>\n",
       "<table border=\"1\" class=\"dataframe\">\n",
       "  <thead>\n",
       "    <tr style=\"text-align: right;\">\n",
       "      <th></th>\n",
       "      <th>isqno</th>\n",
       "      <th>attacker</th>\n",
       "      <th>defender</th>\n",
       "      <th>wt</th>\n",
       "      <th>dyad</th>\n",
       "      <th>direction</th>\n",
       "      <th>primary</th>\n",
       "    </tr>\n",
       "  </thead>\n",
       "  <tbody>\n",
       "    <tr>\n",
       "      <th>0</th>\n",
       "      <td>1</td>\n",
       "      <td>Spain</td>\n",
       "      <td>Dutch Republic</td>\n",
       "      <td>1.0</td>\n",
       "      <td>Dutch Republic|Spain</td>\n",
       "      <td>-1</td>\n",
       "      <td>1</td>\n",
       "    </tr>\n",
       "    <tr>\n",
       "      <th>1</th>\n",
       "      <td>2</td>\n",
       "      <td>Holy Roman Empire</td>\n",
       "      <td>Bohemia</td>\n",
       "      <td>1.0</td>\n",
       "      <td>Bohemia|Holy Roman Empire</td>\n",
       "      <td>-1</td>\n",
       "      <td>1</td>\n",
       "    </tr>\n",
       "    <tr>\n",
       "      <th>3</th>\n",
       "      <td>3</td>\n",
       "      <td>Spain</td>\n",
       "      <td>Protestant Union</td>\n",
       "      <td>0.5</td>\n",
       "      <td>Protestant Union|Spain</td>\n",
       "      <td>-1</td>\n",
       "      <td>0</td>\n",
       "    </tr>\n",
       "    <tr>\n",
       "      <th>4</th>\n",
       "      <td>4</td>\n",
       "      <td>Protestant Union</td>\n",
       "      <td>Holy Roman Empire</td>\n",
       "      <td>1.0</td>\n",
       "      <td>Holy Roman Empire|Protestant Union</td>\n",
       "      <td>-1</td>\n",
       "      <td>1</td>\n",
       "    </tr>\n",
       "    <tr>\n",
       "      <th>5</th>\n",
       "      <td>5</td>\n",
       "      <td>Holy Roman Empire</td>\n",
       "      <td>Denmark</td>\n",
       "      <td>1.0</td>\n",
       "      <td>Denmark|Holy Roman Empire</td>\n",
       "      <td>-1</td>\n",
       "      <td>1</td>\n",
       "    </tr>\n",
       "    <tr>\n",
       "      <th>...</th>\n",
       "      <td>...</td>\n",
       "      <td>...</td>\n",
       "      <td>...</td>\n",
       "      <td>...</td>\n",
       "      <td>...</td>\n",
       "      <td>...</td>\n",
       "      <td>...</td>\n",
       "    </tr>\n",
       "    <tr>\n",
       "      <th>673</th>\n",
       "      <td>656</td>\n",
       "      <td>Israel</td>\n",
       "      <td>Jordan</td>\n",
       "      <td>1.0</td>\n",
       "      <td>Israel|Jordan</td>\n",
       "      <td>1</td>\n",
       "      <td>1</td>\n",
       "    </tr>\n",
       "    <tr>\n",
       "      <th>674</th>\n",
       "      <td>657</td>\n",
       "      <td>Germany</td>\n",
       "      <td>France</td>\n",
       "      <td>1.0</td>\n",
       "      <td>France|Germany</td>\n",
       "      <td>-1</td>\n",
       "      <td>1</td>\n",
       "    </tr>\n",
       "    <tr>\n",
       "      <th>675</th>\n",
       "      <td>658</td>\n",
       "      <td>Germany</td>\n",
       "      <td>France</td>\n",
       "      <td>1.0</td>\n",
       "      <td>France|Germany</td>\n",
       "      <td>-1</td>\n",
       "      <td>1</td>\n",
       "    </tr>\n",
       "    <tr>\n",
       "      <th>676</th>\n",
       "      <td>659</td>\n",
       "      <td>Great Britain</td>\n",
       "      <td>Germany</td>\n",
       "      <td>1.0</td>\n",
       "      <td>Germany|Great Britain</td>\n",
       "      <td>-1</td>\n",
       "      <td>1</td>\n",
       "    </tr>\n",
       "    <tr>\n",
       "      <th>677</th>\n",
       "      <td>660</td>\n",
       "      <td>France</td>\n",
       "      <td>Germany</td>\n",
       "      <td>1.0</td>\n",
       "      <td>France|Germany</td>\n",
       "      <td>1</td>\n",
       "      <td>1</td>\n",
       "    </tr>\n",
       "  </tbody>\n",
       "</table>\n",
       "<p>660 rows × 7 columns</p>\n",
       "</div>"
      ],
      "text/plain": [
       "     isqno           attacker           defender   wt  \\\n",
       "0        1              Spain     Dutch Republic  1.0   \n",
       "1        2  Holy Roman Empire            Bohemia  1.0   \n",
       "3        3              Spain   Protestant Union  0.5   \n",
       "4        4   Protestant Union  Holy Roman Empire  1.0   \n",
       "5        5  Holy Roman Empire            Denmark  1.0   \n",
       "..     ...                ...                ...  ...   \n",
       "673    656             Israel             Jordan  1.0   \n",
       "674    657            Germany             France  1.0   \n",
       "675    658            Germany             France  1.0   \n",
       "676    659      Great Britain            Germany  1.0   \n",
       "677    660             France            Germany  1.0   \n",
       "\n",
       "                                   dyad  direction  primary  \n",
       "0                  Dutch Republic|Spain         -1        1  \n",
       "1             Bohemia|Holy Roman Empire         -1        1  \n",
       "3                Protestant Union|Spain         -1        0  \n",
       "4    Holy Roman Empire|Protestant Union         -1        1  \n",
       "5             Denmark|Holy Roman Empire         -1        1  \n",
       "..                                  ...        ...      ...  \n",
       "673                       Israel|Jordan          1        1  \n",
       "674                      France|Germany         -1        1  \n",
       "675                      France|Germany         -1        1  \n",
       "676               Germany|Great Britain         -1        1  \n",
       "677                      France|Germany          1        1  \n",
       "\n",
       "[660 rows x 7 columns]"
      ]
     },
     "execution_count": 7,
     "metadata": {},
     "output_type": "execute_result"
    }
   ],
   "source": [
    "#Cleaning \n",
    "data_clean = data.dropna()\n",
    "data_clean"
   ]
  },
  {
   "cell_type": "code",
   "execution_count": 26,
   "metadata": {},
   "outputs": [],
   "source": [
    "#Manipulating data\n",
    "isqno_columns = data_clean['isqno']\n",
    "attacker_columns = data_clean['attacker']\n",
    "defender_columns  = data_clean['defender']\n",
    "wt_columns = data_clean['wt']\n",
    "dyad_columns = data_clean['dyad']\n",
    "direction_columns = data_clean['direction']\n",
    "primary_columns = data_clean['primary']"
   ]
  },
  {
   "cell_type": "code",
   "execution_count": 13,
   "metadata": {},
   "outputs": [
    {
     "data": {
      "text/plain": [
       "count    660.00\n",
       "mean     330.50\n",
       "std      190.67\n",
       "min        1.00\n",
       "25%      165.75\n",
       "50%      330.50\n",
       "75%      495.25\n",
       "max      660.00\n",
       "Name: isqno, dtype: float64"
      ]
     },
     "execution_count": 13,
     "metadata": {},
     "output_type": "execute_result"
    }
   ],
   "source": [
    "#Analysing data \n",
    "#1)\n",
    "isqno_columns.describe().round(2)"
   ]
  },
  {
   "cell_type": "code",
   "execution_count": 15,
   "metadata": {},
   "outputs": [
    {
     "data": {
      "text/plain": [
       "count    660.00\n",
       "mean       0.99\n",
       "std        0.08\n",
       "min        0.25\n",
       "25%        1.00\n",
       "50%        1.00\n",
       "75%        1.00\n",
       "max        1.00\n",
       "Name: wt, dtype: float64"
      ]
     },
     "execution_count": 15,
     "metadata": {},
     "output_type": "execute_result"
    }
   ],
   "source": [
    "#2)\n",
    "wt_columns.describe().round(2)"
   ]
  },
  {
   "cell_type": "code",
   "execution_count": 16,
   "metadata": {},
   "outputs": [
    {
     "data": {
      "text/plain": [
       "count    660.00\n",
       "mean      -0.25\n",
       "std        0.97\n",
       "min       -1.00\n",
       "25%       -1.00\n",
       "50%       -1.00\n",
       "75%        1.00\n",
       "max        1.00\n",
       "Name: direction, dtype: float64"
      ]
     },
     "execution_count": 16,
     "metadata": {},
     "output_type": "execute_result"
    }
   ],
   "source": [
    "#3)\n",
    "direction_columns.describe().round(2)"
   ]
  },
  {
   "cell_type": "code",
   "execution_count": 17,
   "metadata": {},
   "outputs": [
    {
     "data": {
      "text/plain": [
       "count    660.00\n",
       "mean       0.98\n",
       "std        0.15\n",
       "min        0.00\n",
       "25%        1.00\n",
       "50%        1.00\n",
       "75%        1.00\n",
       "max        1.00\n",
       "Name: primary, dtype: float64"
      ]
     },
     "execution_count": 17,
     "metadata": {},
     "output_type": "execute_result"
    }
   ],
   "source": [
    "#4)\n",
    "primary_columns.describe().round(2)"
   ]
  },
  {
   "cell_type": "code",
   "execution_count": 18,
   "metadata": {},
   "outputs": [
    {
     "data": {
      "text/plain": [
       "[<matplotlib.lines.Line2D at 0x7fd2772c9220>]"
      ]
     },
     "execution_count": 18,
     "metadata": {},
     "output_type": "execute_result"
    },
    {
     "data": {
      "image/png": "[encoded data removed]",
      "text/plain": [
       "<Figure size 432x288 with 1 Axes>"
      ]
     },
     "metadata": {
      "needs_background": "light"
     },
     "output_type": "display_data"
    }
   ],
   "source": [
    "#Visalisation \n",
    "#1)\n",
    "plt.plot(isqno_columns)"
   ]
  },
  {
   "cell_type": "code",
   "execution_count": 19,
   "metadata": {},
   "outputs": [
    {
     "data": {
      "text/plain": [
       "[<matplotlib.lines.Line2D at 0x7fd2773c9670>]"
      ]
     },
     "execution_count": 19,
     "metadata": {},
     "output_type": "execute_result"
    },
    {
     "data": {
      "image/png": "[encoded data removed]",
      "text/plain": [
       "<Figure size 432x288 with 1 Axes>"
      ]
     },
     "metadata": {
      "needs_background": "light"
     },
     "output_type": "display_data"
    }
   ],
   "source": [
    "#2)\n",
    "plt.plot(wt_columns)"
   ]
  },
  {
   "cell_type": "code",
   "execution_count": 20,
   "metadata": {},
   "outputs": [
    {
     "data": {
      "text/plain": [
       "[<matplotlib.lines.Line2D at 0x7fd2774b1520>]"
      ]
     },
     "execution_count": 20,
     "metadata": {},
     "output_type": "execute_result"
    },
    {
     "data": {
      "image/png": "[encoded data removed]",
      "text/plain": [
       "<Figure size 432x288 with 1 Axes>"
      ]
     },
     "metadata": {
      "needs_background": "light"
     },
     "output_type": "display_data"
    }
   ],
   "source": [
    "#3)\n",
    "plt.plot(direction_columns)"
   ]
  },
  {
   "cell_type": "code",
   "execution_count": 21,
   "metadata": {},
   "outputs": [
    {
     "data": {
      "text/plain": [
       "[<matplotlib.lines.Line2D at 0x7fd277726760>]"
      ]
     },
     "execution_count": 21,
     "metadata": {},
     "output_type": "execute_result"
    },
    {
     "data": {
      "image/png": "[encoded data removed]",
      "text/plain": [
       "<Figure size 432x288 with 1 Axes>"
      ]
     },
     "metadata": {
      "needs_background": "light"
     },
     "output_type": "display_data"
    }
   ],
   "source": [
    "#4)\n",
    "plt.plot(primary_columns)"
   ]
  },
  {
   "cell_type": "code",
   "execution_count": 23,
   "metadata": {},
   "outputs": [
    {
     "data": {
      "text/plain": [
       "(array([  1.,   0.,   0.,  15.,   0.,   0.,   0.,   0.,   0., 644.]),\n",
       " array([0.25 , 0.325, 0.4  , 0.475, 0.55 , 0.625, 0.7  , 0.775, 0.85 ,\n",
       "        0.925, 1.   ]),\n",
       " <BarContainer object of 10 artists>)"
      ]
     },
     "execution_count": 23,
     "metadata": {},
     "output_type": "execute_result"
    },
    {
     "data": {
      "image/png": "[encoded data removed]",
      "text/plain": [
       "<Figure size 432x288 with 1 Axes>"
      ]
     },
     "metadata": {
      "needs_background": "light"
     },
     "output_type": "display_data"
    }
   ],
   "source": [
    "#2)\n",
    "plt.hist(wt_columns)"
   ]
  },
  {
   "cell_type": "code",
   "execution_count": 29,
   "metadata": {},
   "outputs": [
    {
     "data": {
      "text/plain": [
       "(array([ 19.,  14.,  63.,  27.,  37., 139., 223.,  72.,  21.,  45.]),\n",
       " array([ 0.,  4.,  8., 12., 16., 20., 24., 28., 32., 36., 40.]),\n",
       " <BarContainer object of 10 artists>)"
      ]
     },
     "execution_count": 29,
     "metadata": {},
     "output_type": "execute_result"
    },
    {
     "data": {
      "image/png": "[encoded data removed]",
      "text/plain": [
       "<Figure size 432x288 with 1 Axes>"
      ]
     },
     "metadata": {
      "needs_background": "light"
     },
     "output_type": "display_data"
    }
   ],
   "source": [
    "#3)\n",
    "plt.hist(defender_columns)"
   ]
  },
  {
   "cell_type": "code",
   "execution_count": 36,
   "metadata": {},
   "outputs": [
    {
     "data": {
      "text/plain": [
       "(array([ 84.,  11.,  23.,  78., 225.,  40.,  81.,  16.,  87.,  15.]),\n",
       " array([ 0. ,  4.2,  8.4, 12.6, 16.8, 21. , 25.2, 29.4, 33.6, 37.8, 42. ]),\n",
       " <BarContainer object of 10 artists>)"
      ]
     },
     "execution_count": 36,
     "metadata": {},
     "output_type": "execute_result"
    },
    {
     "data": {
      "image/png": "[encoded data removed]",
      "text/plain": [
       "<Figure size 432x288 with 1 Axes>"
      ]
     },
     "metadata": {
      "needs_background": "light"
     },
     "output_type": "display_data"
    }
   ],
   "source": [
    "#4)\n",
    "plt.hist(attacker_columns)"
   ]
  },
  {
   "cell_type": "code",
   "execution_count": null,
   "metadata": {},
   "outputs": [],
   "source": []
  }
 ],
 "metadata": {
  "kernelspec": {
   "display_name": "Python 3",
   "language": "python",
   "name": "python3"
  },
  "language_info": {
   "codemirror_mode": {
    "name": "ipython",
    "version": 3
   },
   "file_extension": ".py",
   "mimetype": "text/x-python",
   "name": "python",
   "nbconvert_exporter": "python",
   "pygments_lexer": "ipython3",
   "version": "3.8.5"
  }
 },
 "nbformat": 4,
 "nbformat_minor": 4
}
