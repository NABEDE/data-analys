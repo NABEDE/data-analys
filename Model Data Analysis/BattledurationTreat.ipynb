{
 "cells": [
  {
   "cell_type": "code",
   "execution_count": 7,
   "metadata": {},
   "outputs": [
    {
     "data": {
      "text/html": [
       "<div>\n",
       "<style scoped>\n",
       "    .dataframe tbody tr th:only-of-type {\n",
       "        vertical-align: middle;\n",
       "    }\n",
       "\n",
       "    .dataframe tbody tr th {\n",
       "        vertical-align: top;\n",
       "    }\n",
       "\n",
       "    .dataframe thead th {\n",
       "        text-align: right;\n",
       "    }\n",
       "</style>\n",
       "<table border=\"1\" class=\"dataframe\">\n",
       "  <thead>\n",
       "    <tr style=\"text-align: right;\">\n",
       "      <th></th>\n",
       "      <th>isqno</th>\n",
       "      <th>datetime_min</th>\n",
       "      <th>datetime_max</th>\n",
       "      <th>datetime</th>\n",
       "      <th>duration1</th>\n",
       "      <th>duration2</th>\n",
       "    </tr>\n",
       "  </thead>\n",
       "  <tbody>\n",
       "    <tr>\n",
       "      <th>0</th>\n",
       "      <td>1</td>\n",
       "      <td>1600-07-02T14:30:00</td>\n",
       "      <td>1600-07-02T19:30:00</td>\n",
       "      <td>1600-07-02T17:00:00</td>\n",
       "      <td>1.0000</td>\n",
       "      <td>0.250</td>\n",
       "    </tr>\n",
       "    <tr>\n",
       "      <th>1</th>\n",
       "      <td>2</td>\n",
       "      <td>1620-11-08T12:00:00</td>\n",
       "      <td>1620-11-08T13:00:00</td>\n",
       "      <td>1620-11-08T12:30:00</td>\n",
       "      <td>1.0000</td>\n",
       "      <td>0.050</td>\n",
       "    </tr>\n",
       "    <tr>\n",
       "      <th>2</th>\n",
       "      <td>3</td>\n",
       "      <td>1622-05-06T03:30:00</td>\n",
       "      <td>1622-05-06T19:00:00</td>\n",
       "      <td>1622-05-06T11:15:00</td>\n",
       "      <td>1.4375</td>\n",
       "      <td>0.575</td>\n",
       "    </tr>\n",
       "    <tr>\n",
       "      <th>3</th>\n",
       "      <td>4</td>\n",
       "      <td>1626-04-25T00:00:00</td>\n",
       "      <td>1626-04-26T00:00:00</td>\n",
       "      <td>1626-04-25T12:00:00</td>\n",
       "      <td>2.0000</td>\n",
       "      <td>0.600</td>\n",
       "    </tr>\n",
       "    <tr>\n",
       "      <th>4</th>\n",
       "      <td>5</td>\n",
       "      <td>1626-08-27T00:00:00</td>\n",
       "      <td>1626-08-28T00:00:00</td>\n",
       "      <td>1626-08-27T12:00:00</td>\n",
       "      <td>2.0000</td>\n",
       "      <td>0.600</td>\n",
       "    </tr>\n",
       "    <tr>\n",
       "      <th>...</th>\n",
       "      <td>...</td>\n",
       "      <td>...</td>\n",
       "      <td>...</td>\n",
       "      <td>...</td>\n",
       "      <td>...</td>\n",
       "      <td>...</td>\n",
       "    </tr>\n",
       "    <tr>\n",
       "      <th>655</th>\n",
       "      <td>656</td>\n",
       "      <td>1948-07-09T00:00:00</td>\n",
       "      <td>1948-07-14T00:00:00</td>\n",
       "      <td>1948-07-11T12:00:00</td>\n",
       "      <td>2.0000</td>\n",
       "      <td>2.000</td>\n",
       "    </tr>\n",
       "    <tr>\n",
       "      <th>656</th>\n",
       "      <td>657</td>\n",
       "      <td>1940-05-10T00:00:00</td>\n",
       "      <td>1940-05-22T00:00:00</td>\n",
       "      <td>1940-05-16T00:00:00</td>\n",
       "      <td>2.0000</td>\n",
       "      <td>2.000</td>\n",
       "    </tr>\n",
       "    <tr>\n",
       "      <th>657</th>\n",
       "      <td>658</td>\n",
       "      <td>1940-05-13T00:00:00</td>\n",
       "      <td>1940-05-18T00:00:00</td>\n",
       "      <td>1940-05-15T12:00:00</td>\n",
       "      <td>2.0000</td>\n",
       "      <td>2.000</td>\n",
       "    </tr>\n",
       "    <tr>\n",
       "      <th>658</th>\n",
       "      <td>659</td>\n",
       "      <td>1940-05-21T00:00:00</td>\n",
       "      <td>1940-05-23T00:00:00</td>\n",
       "      <td>1940-05-22T00:00:00</td>\n",
       "      <td>2.0000</td>\n",
       "      <td>1.200</td>\n",
       "    </tr>\n",
       "    <tr>\n",
       "      <th>659</th>\n",
       "      <td>660</td>\n",
       "      <td>1940-06-01T00:00:00</td>\n",
       "      <td>1940-06-02T00:00:00</td>\n",
       "      <td>1940-06-01T12:00:00</td>\n",
       "      <td>2.0000</td>\n",
       "      <td>0.600</td>\n",
       "    </tr>\n",
       "  </tbody>\n",
       "</table>\n",
       "<p>660 rows × 6 columns</p>\n",
       "</div>"
      ],
      "text/plain": [
       "     isqno         datetime_min         datetime_max             datetime  \\\n",
       "0        1  1600-07-02T14:30:00  1600-07-02T19:30:00  1600-07-02T17:00:00   \n",
       "1        2  1620-11-08T12:00:00  1620-11-08T13:00:00  1620-11-08T12:30:00   \n",
       "2        3  1622-05-06T03:30:00  1622-05-06T19:00:00  1622-05-06T11:15:00   \n",
       "3        4  1626-04-25T00:00:00  1626-04-26T00:00:00  1626-04-25T12:00:00   \n",
       "4        5  1626-08-27T00:00:00  1626-08-28T00:00:00  1626-08-27T12:00:00   \n",
       "..     ...                  ...                  ...                  ...   \n",
       "655    656  1948-07-09T00:00:00  1948-07-14T00:00:00  1948-07-11T12:00:00   \n",
       "656    657  1940-05-10T00:00:00  1940-05-22T00:00:00  1940-05-16T00:00:00   \n",
       "657    658  1940-05-13T00:00:00  1940-05-18T00:00:00  1940-05-15T12:00:00   \n",
       "658    659  1940-05-21T00:00:00  1940-05-23T00:00:00  1940-05-22T00:00:00   \n",
       "659    660  1940-06-01T00:00:00  1940-06-02T00:00:00  1940-06-01T12:00:00   \n",
       "\n",
       "     duration1  duration2  \n",
       "0       1.0000      0.250  \n",
       "1       1.0000      0.050  \n",
       "2       1.4375      0.575  \n",
       "3       2.0000      0.600  \n",
       "4       2.0000      0.600  \n",
       "..         ...        ...  \n",
       "655     2.0000      2.000  \n",
       "656     2.0000      2.000  \n",
       "657     2.0000      2.000  \n",
       "658     2.0000      1.200  \n",
       "659     2.0000      0.600  \n",
       "\n",
       "[660 rows x 6 columns]"
      ]
     },
     "execution_count": 7,
     "metadata": {},
     "output_type": "execute_result"
    }
   ],
   "source": [
    "import numpy as np\n",
    "import pandas as pds\n",
    "import matplotlib.pyplot as plt \n",
    "import seaborn as sns \n",
    "\n",
    "#Collection of data\n",
    "data = pds.read_csv('battle_durations.csv')\n",
    "data"
   ]
  },
  {
   "cell_type": "code",
   "execution_count": 9,
   "metadata": {},
   "outputs": [
    {
     "data": {
      "text/html": [
       "<div>\n",
       "<style scoped>\n",
       "    .dataframe tbody tr th:only-of-type {\n",
       "        vertical-align: middle;\n",
       "    }\n",
       "\n",
       "    .dataframe tbody tr th {\n",
       "        vertical-align: top;\n",
       "    }\n",
       "\n",
       "    .dataframe thead th {\n",
       "        text-align: right;\n",
       "    }\n",
       "</style>\n",
       "<table border=\"1\" class=\"dataframe\">\n",
       "  <thead>\n",
       "    <tr style=\"text-align: right;\">\n",
       "      <th></th>\n",
       "      <th>isqno</th>\n",
       "      <th>datetime_min</th>\n",
       "      <th>datetime_max</th>\n",
       "      <th>datetime</th>\n",
       "      <th>duration1</th>\n",
       "      <th>duration2</th>\n",
       "    </tr>\n",
       "  </thead>\n",
       "  <tbody>\n",
       "    <tr>\n",
       "      <th>0</th>\n",
       "      <td>1</td>\n",
       "      <td>1600-07-02T14:30:00</td>\n",
       "      <td>1600-07-02T19:30:00</td>\n",
       "      <td>1600-07-02T17:00:00</td>\n",
       "      <td>1.0000</td>\n",
       "      <td>0.250</td>\n",
       "    </tr>\n",
       "    <tr>\n",
       "      <th>1</th>\n",
       "      <td>2</td>\n",
       "      <td>1620-11-08T12:00:00</td>\n",
       "      <td>1620-11-08T13:00:00</td>\n",
       "      <td>1620-11-08T12:30:00</td>\n",
       "      <td>1.0000</td>\n",
       "      <td>0.050</td>\n",
       "    </tr>\n",
       "    <tr>\n",
       "      <th>2</th>\n",
       "      <td>3</td>\n",
       "      <td>1622-05-06T03:30:00</td>\n",
       "      <td>1622-05-06T19:00:00</td>\n",
       "      <td>1622-05-06T11:15:00</td>\n",
       "      <td>1.4375</td>\n",
       "      <td>0.575</td>\n",
       "    </tr>\n",
       "    <tr>\n",
       "      <th>3</th>\n",
       "      <td>4</td>\n",
       "      <td>1626-04-25T00:00:00</td>\n",
       "      <td>1626-04-26T00:00:00</td>\n",
       "      <td>1626-04-25T12:00:00</td>\n",
       "      <td>2.0000</td>\n",
       "      <td>0.600</td>\n",
       "    </tr>\n",
       "    <tr>\n",
       "      <th>4</th>\n",
       "      <td>5</td>\n",
       "      <td>1626-08-27T00:00:00</td>\n",
       "      <td>1626-08-28T00:00:00</td>\n",
       "      <td>1626-08-27T12:00:00</td>\n",
       "      <td>2.0000</td>\n",
       "      <td>0.600</td>\n",
       "    </tr>\n",
       "    <tr>\n",
       "      <th>...</th>\n",
       "      <td>...</td>\n",
       "      <td>...</td>\n",
       "      <td>...</td>\n",
       "      <td>...</td>\n",
       "      <td>...</td>\n",
       "      <td>...</td>\n",
       "    </tr>\n",
       "    <tr>\n",
       "      <th>655</th>\n",
       "      <td>656</td>\n",
       "      <td>1948-07-09T00:00:00</td>\n",
       "      <td>1948-07-14T00:00:00</td>\n",
       "      <td>1948-07-11T12:00:00</td>\n",
       "      <td>2.0000</td>\n",
       "      <td>2.000</td>\n",
       "    </tr>\n",
       "    <tr>\n",
       "      <th>656</th>\n",
       "      <td>657</td>\n",
       "      <td>1940-05-10T00:00:00</td>\n",
       "      <td>1940-05-22T00:00:00</td>\n",
       "      <td>1940-05-16T00:00:00</td>\n",
       "      <td>2.0000</td>\n",
       "      <td>2.000</td>\n",
       "    </tr>\n",
       "    <tr>\n",
       "      <th>657</th>\n",
       "      <td>658</td>\n",
       "      <td>1940-05-13T00:00:00</td>\n",
       "      <td>1940-05-18T00:00:00</td>\n",
       "      <td>1940-05-15T12:00:00</td>\n",
       "      <td>2.0000</td>\n",
       "      <td>2.000</td>\n",
       "    </tr>\n",
       "    <tr>\n",
       "      <th>658</th>\n",
       "      <td>659</td>\n",
       "      <td>1940-05-21T00:00:00</td>\n",
       "      <td>1940-05-23T00:00:00</td>\n",
       "      <td>1940-05-22T00:00:00</td>\n",
       "      <td>2.0000</td>\n",
       "      <td>1.200</td>\n",
       "    </tr>\n",
       "    <tr>\n",
       "      <th>659</th>\n",
       "      <td>660</td>\n",
       "      <td>1940-06-01T00:00:00</td>\n",
       "      <td>1940-06-02T00:00:00</td>\n",
       "      <td>1940-06-01T12:00:00</td>\n",
       "      <td>2.0000</td>\n",
       "      <td>0.600</td>\n",
       "    </tr>\n",
       "  </tbody>\n",
       "</table>\n",
       "<p>658 rows × 6 columns</p>\n",
       "</div>"
      ],
      "text/plain": [
       "     isqno         datetime_min         datetime_max             datetime  \\\n",
       "0        1  1600-07-02T14:30:00  1600-07-02T19:30:00  1600-07-02T17:00:00   \n",
       "1        2  1620-11-08T12:00:00  1620-11-08T13:00:00  1620-11-08T12:30:00   \n",
       "2        3  1622-05-06T03:30:00  1622-05-06T19:00:00  1622-05-06T11:15:00   \n",
       "3        4  1626-04-25T00:00:00  1626-04-26T00:00:00  1626-04-25T12:00:00   \n",
       "4        5  1626-08-27T00:00:00  1626-08-28T00:00:00  1626-08-27T12:00:00   \n",
       "..     ...                  ...                  ...                  ...   \n",
       "655    656  1948-07-09T00:00:00  1948-07-14T00:00:00  1948-07-11T12:00:00   \n",
       "656    657  1940-05-10T00:00:00  1940-05-22T00:00:00  1940-05-16T00:00:00   \n",
       "657    658  1940-05-13T00:00:00  1940-05-18T00:00:00  1940-05-15T12:00:00   \n",
       "658    659  1940-05-21T00:00:00  1940-05-23T00:00:00  1940-05-22T00:00:00   \n",
       "659    660  1940-06-01T00:00:00  1940-06-02T00:00:00  1940-06-01T12:00:00   \n",
       "\n",
       "     duration1  duration2  \n",
       "0       1.0000      0.250  \n",
       "1       1.0000      0.050  \n",
       "2       1.4375      0.575  \n",
       "3       2.0000      0.600  \n",
       "4       2.0000      0.600  \n",
       "..         ...        ...  \n",
       "655     2.0000      2.000  \n",
       "656     2.0000      2.000  \n",
       "657     2.0000      2.000  \n",
       "658     2.0000      1.200  \n",
       "659     2.0000      0.600  \n",
       "\n",
       "[658 rows x 6 columns]"
      ]
     },
     "execution_count": 9,
     "metadata": {},
     "output_type": "execute_result"
    }
   ],
   "source": [
    "#Cleaning Data \n",
    "dataClean = data.dropna()\n",
    "dataClean"
   ]
  },
  {
   "cell_type": "code",
   "execution_count": 17,
   "metadata": {},
   "outputs": [],
   "source": [
    "#Manipulating data \n",
    "isqno = dataClean['isqno']\n",
    "datetime_min = dataClean['datetime_min']\n",
    "datetime_max = dataClean['datetime_max']\n",
    "datetime = dataClean['datetime']\n",
    "duration1 = dataClean['duration1']\n",
    "duration2 = dataClean['duration2']"
   ]
  },
  {
   "cell_type": "code",
   "execution_count": 18,
   "metadata": {},
   "outputs": [
    {
     "data": {
      "text/plain": [
       "count    658.000000\n",
       "mean     330.191489\n",
       "std      190.877410\n",
       "min        1.000000\n",
       "25%      165.250000\n",
       "50%      329.500000\n",
       "75%      495.750000\n",
       "max      660.000000\n",
       "Name: isqno, dtype: float64"
      ]
     },
     "execution_count": 18,
     "metadata": {},
     "output_type": "execute_result"
    }
   ],
   "source": [
    "#Analysing of data \n",
    "#1)\n",
    "isqno.describe()"
   ]
  },
  {
   "cell_type": "code",
   "execution_count": 20,
   "metadata": {},
   "outputs": [
    {
     "data": {
      "text/plain": [
       "count                     658\n",
       "unique                    576\n",
       "top       1944-12-16T00:00:00\n",
       "freq                        7\n",
       "Name: datetime_min, dtype: object"
      ]
     },
     "execution_count": 20,
     "metadata": {},
     "output_type": "execute_result"
    }
   ],
   "source": [
    "#2)\n",
    "datetime_min.describe()"
   ]
  },
  {
   "cell_type": "code",
   "execution_count": 22,
   "metadata": {},
   "outputs": [
    {
     "data": {
      "text/plain": [
       "count                     658\n",
       "unique                    595\n",
       "top       1914-09-10T00:00:00\n",
       "freq                        6\n",
       "Name: datetime_max, dtype: object"
      ]
     },
     "execution_count": 22,
     "metadata": {},
     "output_type": "execute_result"
    }
   ],
   "source": [
    "#3)\n",
    "datetime_max.describe()"
   ]
  },
  {
   "cell_type": "code",
   "execution_count": 23,
   "metadata": {},
   "outputs": [
    {
     "data": {
      "text/plain": [
       "count                     658\n",
       "unique                    614\n",
       "top       1914-09-08T00:00:00\n",
       "freq                        6\n",
       "Name: datetime, dtype: object"
      ]
     },
     "execution_count": 23,
     "metadata": {},
     "output_type": "execute_result"
    }
   ],
   "source": [
    "#4)\n",
    "datetime.describe()"
   ]
  },
  {
   "cell_type": "code",
   "execution_count": 24,
   "metadata": {},
   "outputs": [
    {
     "data": {
      "text/plain": [
       "count    658.000000\n",
       "mean       1.867623\n",
       "std        4.856689\n",
       "min        1.000000\n",
       "25%        1.000000\n",
       "50%        2.000000\n",
       "75%        2.000000\n",
       "max      125.000000\n",
       "Name: duration1, dtype: float64"
      ]
     },
     "execution_count": 24,
     "metadata": {},
     "output_type": "execute_result"
    }
   ],
   "source": [
    "#5)\n",
    "duration1.describe()"
   ]
  },
  {
   "cell_type": "code",
   "execution_count": 25,
   "metadata": {},
   "outputs": [
    {
     "data": {
      "text/plain": [
       "count    658.000000\n",
       "mean       1.224732\n",
       "std        4.891338\n",
       "min        0.008333\n",
       "25%        0.425000\n",
       "50%        0.700000\n",
       "75%        2.000000\n",
       "max      125.000000\n",
       "Name: duration2, dtype: float64"
      ]
     },
     "execution_count": 25,
     "metadata": {},
     "output_type": "execute_result"
    }
   ],
   "source": [
    "#6)\n",
    "duration2.describe()"
   ]
  },
  {
   "cell_type": "code",
   "execution_count": 27,
   "metadata": {},
   "outputs": [
    {
     "data": {
      "text/plain": [
       "(array([66., 66., 66., 66., 66., 66., 64., 66., 66., 66.]),\n",
       " array([  1. ,  66.9, 132.8, 198.7, 264.6, 330.5, 396.4, 462.3, 528.2,\n",
       "        594.1, 660. ]),\n",
       " <BarContainer object of 10 artists>)"
      ]
     },
     "execution_count": 27,
     "metadata": {},
     "output_type": "execute_result"
    },
    {
     "data": {
      "image/png": "[encoded data removed]",
      "text/plain": [
       "<Figure size 432x288 with 1 Axes>"
      ]
     },
     "metadata": {
      "needs_background": "light"
     },
     "output_type": "display_data"
    }
   ],
   "source": [
    "#Visualisation \n",
    "#1)\n",
    "plt.plot(isqno)\n",
    "plt.hist(isqno)"
   ]
  },
  {
   "cell_type": "code",
   "execution_count": 31,
   "metadata": {},
   "outputs": [
    {
     "data": {
      "text/plain": [
       "[<matplotlib.lines.Line2D at 0x7fd9bdafe4c0>]"
      ]
     },
     "execution_count": 31,
     "metadata": {},
     "output_type": "execute_result"
    },
    {
     "data": {
      "image/png": "[encoded data removed]",
      "text/plain": [
       "<Figure size 432x288 with 1 Axes>"
      ]
     },
     "metadata": {
      "needs_background": "light"
     },
     "output_type": "display_data"
    }
   ],
   "source": [
    "#2)\n",
    "plt.plot_date(datetime_min,datetime_max)"
   ]
  },
  {
   "cell_type": "code",
   "execution_count": 32,
   "metadata": {},
   "outputs": [
    {
     "data": {
      "text/plain": [
       "[<matplotlib.lines.Line2D at 0x7fd9c15a6ac0>]"
      ]
     },
     "execution_count": 32,
     "metadata": {},
     "output_type": "execute_result"
    },
    {
     "data": {
      "image/png": "[encoded data removed]",
      "text/plain": [
       "<Figure size 432x288 with 1 Axes>"
      ]
     },
     "metadata": {
      "needs_background": "light"
     },
     "output_type": "display_data"
    }
   ],
   "source": [
    "#5)\n",
    "plt.plot(duration1)"
   ]
  },
  {
   "cell_type": "code",
   "execution_count": 33,
   "metadata": {},
   "outputs": [
    {
     "data": {
      "text/plain": [
       "[<matplotlib.lines.Line2D at 0x7fd9c1470250>]"
      ]
     },
     "execution_count": 33,
     "metadata": {},
     "output_type": "execute_result"
    },
    {
     "data": {
      "image/png": "[encoded data removed]",
      "text/plain": [
       "<Figure size 432x288 with 1 Axes>"
      ]
     },
     "metadata": {
      "needs_background": "light"
     },
     "output_type": "display_data"
    }
   ],
   "source": [
    "#6)\n",
    "plt.plot(duration2)"
   ]
  },
  {
   "cell_type": "code",
   "execution_count": null,
   "metadata": {},
   "outputs": [],
   "source": []
  }
 ],
 "metadata": {
  "kernelspec": {
   "display_name": "Python 3",
   "language": "python",
   "name": "python3"
  },
  "language_info": {
   "codemirror_mode": {
    "name": "ipython",
    "version": 3
   },
   "file_extension": ".py",
   "mimetype": "text/x-python",
   "name": "python",
   "nbconvert_exporter": "python",
   "pygments_lexer": "ipython3",
   "version": "3.8.5"
  }
 },
 "nbformat": 4,
 "nbformat_minor": 4
}
