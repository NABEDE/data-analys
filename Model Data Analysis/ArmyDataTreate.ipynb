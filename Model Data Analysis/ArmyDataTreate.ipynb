{
 "cells": [
  {
   "cell_type": "code",
   "execution_count": 1,
   "metadata": {},
   "outputs": [
    {
     "name": "stdout",
     "output_type": "stream",
     "text": [
      "Hello Python\n"
     ]
    }
   ],
   "source": [
    "print(\"Hello Python\")"
   ]
  },
  {
   "cell_type": "code",
   "execution_count": 8,
   "metadata": {},
   "outputs": [
    {
     "data": {
      "text/html": [
       "<div>\n",
       "<style scoped>\n",
       "    .dataframe tbody tr th:only-of-type {\n",
       "        vertical-align: middle;\n",
       "    }\n",
       "\n",
       "    .dataframe tbody tr th {\n",
       "        vertical-align: top;\n",
       "    }\n",
       "\n",
       "    .dataframe thead th {\n",
       "        text-align: right;\n",
       "    }\n",
       "</style>\n",
       "<table border=\"1\" class=\"dataframe\">\n",
       "  <thead>\n",
       "    <tr style=\"text-align: right;\">\n",
       "      <th></th>\n",
       "      <th>isqno</th>\n",
       "      <th>atp_number</th>\n",
       "      <th>start_time_min</th>\n",
       "      <th>start_time_max</th>\n",
       "      <th>end_time_min</th>\n",
       "      <th>end_time_max</th>\n",
       "      <th>duration_max</th>\n",
       "      <th>duration_min</th>\n",
       "      <th>duration_only</th>\n",
       "    </tr>\n",
       "  </thead>\n",
       "  <tbody>\n",
       "    <tr>\n",
       "      <th>0</th>\n",
       "      <td>1</td>\n",
       "      <td>1</td>\n",
       "      <td>1600-07-02T14:30:00</td>\n",
       "      <td>1600-07-02T14:30:00</td>\n",
       "      <td>1600-07-02T19:30:00</td>\n",
       "      <td>1600-07-02T19:30:00</td>\n",
       "      <td>300.0</td>\n",
       "      <td>300.0</td>\n",
       "      <td>0</td>\n",
       "    </tr>\n",
       "    <tr>\n",
       "      <th>1</th>\n",
       "      <td>2</td>\n",
       "      <td>1</td>\n",
       "      <td>1620-11-08T12:00:00</td>\n",
       "      <td>1620-11-08T12:00:00</td>\n",
       "      <td>1620-11-08T13:00:00</td>\n",
       "      <td>1620-11-08T13:00:00</td>\n",
       "      <td>60.0</td>\n",
       "      <td>60.0</td>\n",
       "      <td>0</td>\n",
       "    </tr>\n",
       "    <tr>\n",
       "      <th>2</th>\n",
       "      <td>3</td>\n",
       "      <td>1</td>\n",
       "      <td>1622-05-06T03:30:00</td>\n",
       "      <td>1622-05-06T03:30:00</td>\n",
       "      <td>1622-05-06T10:00:00</td>\n",
       "      <td>1622-05-06T10:00:00</td>\n",
       "      <td>390.0</td>\n",
       "      <td>390.0</td>\n",
       "      <td>0</td>\n",
       "    </tr>\n",
       "    <tr>\n",
       "      <th>3</th>\n",
       "      <td>3</td>\n",
       "      <td>2</td>\n",
       "      <td>1622-05-06T14:00:00</td>\n",
       "      <td>1622-05-06T14:00:00</td>\n",
       "      <td>1622-05-06T19:00:00</td>\n",
       "      <td>1622-05-06T19:00:00</td>\n",
       "      <td>300.0</td>\n",
       "      <td>300.0</td>\n",
       "      <td>0</td>\n",
       "    </tr>\n",
       "    <tr>\n",
       "      <th>4</th>\n",
       "      <td>4</td>\n",
       "      <td>1</td>\n",
       "      <td>1626-04-25T00:00:00</td>\n",
       "      <td>1626-04-26T00:00:00</td>\n",
       "      <td>1626-04-25T00:00:00</td>\n",
       "      <td>1626-04-26T00:00:00</td>\n",
       "      <td>1440.0</td>\n",
       "      <td>0.0</td>\n",
       "      <td>0</td>\n",
       "    </tr>\n",
       "    <tr>\n",
       "      <th>...</th>\n",
       "      <td>...</td>\n",
       "      <td>...</td>\n",
       "      <td>...</td>\n",
       "      <td>...</td>\n",
       "      <td>...</td>\n",
       "      <td>...</td>\n",
       "      <td>...</td>\n",
       "      <td>...</td>\n",
       "      <td>...</td>\n",
       "    </tr>\n",
       "    <tr>\n",
       "      <th>825</th>\n",
       "      <td>656</td>\n",
       "      <td>1</td>\n",
       "      <td>1948-07-09T00:00:00</td>\n",
       "      <td>1948-07-10T00:00:00</td>\n",
       "      <td>1948-07-13T00:00:00</td>\n",
       "      <td>1948-07-14T00:00:00</td>\n",
       "      <td>7200.0</td>\n",
       "      <td>4320.0</td>\n",
       "      <td>0</td>\n",
       "    </tr>\n",
       "    <tr>\n",
       "      <th>826</th>\n",
       "      <td>657</td>\n",
       "      <td>1</td>\n",
       "      <td>1940-05-10T00:00:00</td>\n",
       "      <td>1940-05-11T00:00:00</td>\n",
       "      <td>1940-05-21T00:00:00</td>\n",
       "      <td>1940-05-22T00:00:00</td>\n",
       "      <td>17280.0</td>\n",
       "      <td>14400.0</td>\n",
       "      <td>0</td>\n",
       "    </tr>\n",
       "    <tr>\n",
       "      <th>827</th>\n",
       "      <td>658</td>\n",
       "      <td>1</td>\n",
       "      <td>1940-05-13T00:00:00</td>\n",
       "      <td>1940-05-14T00:00:00</td>\n",
       "      <td>1940-05-17T00:00:00</td>\n",
       "      <td>1940-05-18T00:00:00</td>\n",
       "      <td>7200.0</td>\n",
       "      <td>4320.0</td>\n",
       "      <td>0</td>\n",
       "    </tr>\n",
       "    <tr>\n",
       "      <th>828</th>\n",
       "      <td>659</td>\n",
       "      <td>1</td>\n",
       "      <td>1940-05-21T00:00:00</td>\n",
       "      <td>1940-05-22T00:00:00</td>\n",
       "      <td>1940-05-22T00:00:00</td>\n",
       "      <td>1940-05-23T00:00:00</td>\n",
       "      <td>2880.0</td>\n",
       "      <td>0.0</td>\n",
       "      <td>0</td>\n",
       "    </tr>\n",
       "    <tr>\n",
       "      <th>829</th>\n",
       "      <td>660</td>\n",
       "      <td>1</td>\n",
       "      <td>1940-06-01T00:00:00</td>\n",
       "      <td>1940-06-02T00:00:00</td>\n",
       "      <td>1940-06-01T00:00:00</td>\n",
       "      <td>1940-06-02T00:00:00</td>\n",
       "      <td>1440.0</td>\n",
       "      <td>0.0</td>\n",
       "      <td>0</td>\n",
       "    </tr>\n",
       "  </tbody>\n",
       "</table>\n",
       "<p>828 rows × 9 columns</p>\n",
       "</div>"
      ],
      "text/plain": [
       "     isqno  atp_number       start_time_min       start_time_max  \\\n",
       "0        1           1  1600-07-02T14:30:00  1600-07-02T14:30:00   \n",
       "1        2           1  1620-11-08T12:00:00  1620-11-08T12:00:00   \n",
       "2        3           1  1622-05-06T03:30:00  1622-05-06T03:30:00   \n",
       "3        3           2  1622-05-06T14:00:00  1622-05-06T14:00:00   \n",
       "4        4           1  1626-04-25T00:00:00  1626-04-26T00:00:00   \n",
       "..     ...         ...                  ...                  ...   \n",
       "825    656           1  1948-07-09T00:00:00  1948-07-10T00:00:00   \n",
       "826    657           1  1940-05-10T00:00:00  1940-05-11T00:00:00   \n",
       "827    658           1  1940-05-13T00:00:00  1940-05-14T00:00:00   \n",
       "828    659           1  1940-05-21T00:00:00  1940-05-22T00:00:00   \n",
       "829    660           1  1940-06-01T00:00:00  1940-06-02T00:00:00   \n",
       "\n",
       "            end_time_min         end_time_max  duration_max  duration_min  \\\n",
       "0    1600-07-02T19:30:00  1600-07-02T19:30:00         300.0         300.0   \n",
       "1    1620-11-08T13:00:00  1620-11-08T13:00:00          60.0          60.0   \n",
       "2    1622-05-06T10:00:00  1622-05-06T10:00:00         390.0         390.0   \n",
       "3    1622-05-06T19:00:00  1622-05-06T19:00:00         300.0         300.0   \n",
       "4    1626-04-25T00:00:00  1626-04-26T00:00:00        1440.0           0.0   \n",
       "..                   ...                  ...           ...           ...   \n",
       "825  1948-07-13T00:00:00  1948-07-14T00:00:00        7200.0        4320.0   \n",
       "826  1940-05-21T00:00:00  1940-05-22T00:00:00       17280.0       14400.0   \n",
       "827  1940-05-17T00:00:00  1940-05-18T00:00:00        7200.0        4320.0   \n",
       "828  1940-05-22T00:00:00  1940-05-23T00:00:00        2880.0           0.0   \n",
       "829  1940-06-01T00:00:00  1940-06-02T00:00:00        1440.0           0.0   \n",
       "\n",
       "     duration_only  \n",
       "0                0  \n",
       "1                0  \n",
       "2                0  \n",
       "3                0  \n",
       "4                0  \n",
       "..             ...  \n",
       "825              0  \n",
       "826              0  \n",
       "827              0  \n",
       "828              0  \n",
       "829              0  \n",
       "\n",
       "[828 rows x 9 columns]"
      ]
     },
     "execution_count": 8,
     "metadata": {},
     "output_type": "execute_result"
    }
   ],
   "source": [
    "import numpy as np\n",
    "import pandas as pda\n",
    "import matplotlib.pyplot as plt\n",
    "\n",
    "dataArmy = pda.read_csv(\"ArmyData.csv\")\n",
    "dataArmyNoNan = dataArmy.dropna()\n",
    "dataArmyNoNan"
   ]
  },
  {
   "cell_type": "code",
   "execution_count": 7,
   "metadata": {},
   "outputs": [
    {
     "data": {
      "text/plain": [
       "0      1\n",
       "1      1\n",
       "2      1\n",
       "3      2\n",
       "4      1\n",
       "      ..\n",
       "825    1\n",
       "826    1\n",
       "827    1\n",
       "828    1\n",
       "829    1\n",
       "Name: atp_number, Length: 828, dtype: int64"
      ]
     },
     "execution_count": 7,
     "metadata": {},
     "output_type": "execute_result"
    }
   ],
   "source": [
    "atp_number = dataArmyNoNan['atp_number']\n",
    "atp_number"
   ]
  },
  {
   "cell_type": "code",
   "execution_count": 9,
   "metadata": {},
   "outputs": [
    {
     "data": {
      "text/plain": [
       "[<matplotlib.lines.Line2D at 0x7fc65cee37c0>]"
      ]
     },
     "execution_count": 9,
     "metadata": {},
     "output_type": "execute_result"
    },
    {
     "data": {
      "image/png": "[encoded data removed]",
      "text/plain": [
       "<Figure size 432x288 with 1 Axes>"
      ]
     },
     "metadata": {
      "needs_background": "light"
     },
     "output_type": "display_data"
    }
   ],
   "source": [
    "plt.plot(atp_number)"
   ]
  },
  {
   "cell_type": "code",
   "execution_count": 12,
   "metadata": {},
   "outputs": [
    {
     "data": {
      "text/plain": [
       "0        1\n",
       "1        2\n",
       "2        3\n",
       "3        3\n",
       "4        4\n",
       "      ... \n",
       "825    656\n",
       "826    657\n",
       "827    658\n",
       "828    659\n",
       "829    660\n",
       "Name: isqno, Length: 828, dtype: int64"
      ]
     },
     "execution_count": 12,
     "metadata": {},
     "output_type": "execute_result"
    }
   ],
   "source": [
    "isqno_colomns = dataArmyNoNan['isqno']\n",
    "isqno_colomns"
   ]
  },
  {
   "cell_type": "code",
   "execution_count": 13,
   "metadata": {},
   "outputs": [
    {
     "data": {
      "text/plain": [
       "[<matplotlib.lines.Line2D at 0x7fc65d01cc70>]"
      ]
     },
     "execution_count": 13,
     "metadata": {},
     "output_type": "execute_result"
    },
    {
     "data": {
      "image/png": "[encoded data removed]",
      "text/plain": [
       "<Figure size 432x288 with 1 Axes>"
      ]
     },
     "metadata": {
      "needs_background": "light"
     },
     "output_type": "display_data"
    }
   ],
   "source": [
    "plt.plot(isqno_colomns)"
   ]
  },
  {
   "cell_type": "code",
   "execution_count": 15,
   "metadata": {},
   "outputs": [
    {
     "data": {
      "text/plain": [
       "0      1600-07-02T14:30:00\n",
       "1      1620-11-08T12:00:00\n",
       "2      1622-05-06T03:30:00\n",
       "3      1622-05-06T14:00:00\n",
       "4      1626-04-25T00:00:00\n",
       "              ...         \n",
       "825    1948-07-09T00:00:00\n",
       "826    1940-05-10T00:00:00\n",
       "827    1940-05-13T00:00:00\n",
       "828    1940-05-21T00:00:00\n",
       "829    1940-06-01T00:00:00\n",
       "Name: start_time_min, Length: 828, dtype: object"
      ]
     },
     "execution_count": 15,
     "metadata": {},
     "output_type": "execute_result"
    }
   ],
   "source": [
    "start_colomns = dataArmyNoNan['start_time_min']\n",
    "\n",
    "start_colomns "
   ]
  },
  {
   "cell_type": "code",
   "execution_count": 25,
   "metadata": {},
   "outputs": [
    {
     "data": {
      "text/html": [
       "<div>\n",
       "<style scoped>\n",
       "    .dataframe tbody tr th:only-of-type {\n",
       "        vertical-align: middle;\n",
       "    }\n",
       "\n",
       "    .dataframe tbody tr th {\n",
       "        vertical-align: top;\n",
       "    }\n",
       "\n",
       "    .dataframe thead th {\n",
       "        text-align: right;\n",
       "    }\n",
       "</style>\n",
       "<table border=\"1\" class=\"dataframe\">\n",
       "  <thead>\n",
       "    <tr style=\"text-align: right;\">\n",
       "      <th></th>\n",
       "      <th>isqno</th>\n",
       "      <th>atp_number</th>\n",
       "      <th>start_time_min</th>\n",
       "      <th>start_time_max</th>\n",
       "      <th>end_time_min</th>\n",
       "      <th>end_time_max</th>\n",
       "      <th>duration_max</th>\n",
       "      <th>duration_min</th>\n",
       "    </tr>\n",
       "  </thead>\n",
       "  <tbody>\n",
       "    <tr>\n",
       "      <th>0</th>\n",
       "      <td>1</td>\n",
       "      <td>1</td>\n",
       "      <td>1600-07-02T14:30:00</td>\n",
       "      <td>1600-07-02T14:30:00</td>\n",
       "      <td>1600-07-02T19:30:00</td>\n",
       "      <td>1600-07-02T19:30:00</td>\n",
       "      <td>300.0</td>\n",
       "      <td>300.0</td>\n",
       "    </tr>\n",
       "    <tr>\n",
       "      <th>1</th>\n",
       "      <td>2</td>\n",
       "      <td>1</td>\n",
       "      <td>1620-11-08T12:00:00</td>\n",
       "      <td>1620-11-08T12:00:00</td>\n",
       "      <td>1620-11-08T13:00:00</td>\n",
       "      <td>1620-11-08T13:00:00</td>\n",
       "      <td>60.0</td>\n",
       "      <td>60.0</td>\n",
       "    </tr>\n",
       "    <tr>\n",
       "      <th>2</th>\n",
       "      <td>3</td>\n",
       "      <td>1</td>\n",
       "      <td>1622-05-06T03:30:00</td>\n",
       "      <td>1622-05-06T03:30:00</td>\n",
       "      <td>1622-05-06T10:00:00</td>\n",
       "      <td>1622-05-06T10:00:00</td>\n",
       "      <td>390.0</td>\n",
       "      <td>390.0</td>\n",
       "    </tr>\n",
       "    <tr>\n",
       "      <th>3</th>\n",
       "      <td>3</td>\n",
       "      <td>2</td>\n",
       "      <td>1622-05-06T14:00:00</td>\n",
       "      <td>1622-05-06T14:00:00</td>\n",
       "      <td>1622-05-06T19:00:00</td>\n",
       "      <td>1622-05-06T19:00:00</td>\n",
       "      <td>300.0</td>\n",
       "      <td>300.0</td>\n",
       "    </tr>\n",
       "    <tr>\n",
       "      <th>4</th>\n",
       "      <td>4</td>\n",
       "      <td>1</td>\n",
       "      <td>1626-04-25T00:00:00</td>\n",
       "      <td>1626-04-26T00:00:00</td>\n",
       "      <td>1626-04-25T00:00:00</td>\n",
       "      <td>1626-04-26T00:00:00</td>\n",
       "      <td>1440.0</td>\n",
       "      <td>0.0</td>\n",
       "    </tr>\n",
       "    <tr>\n",
       "      <th>...</th>\n",
       "      <td>...</td>\n",
       "      <td>...</td>\n",
       "      <td>...</td>\n",
       "      <td>...</td>\n",
       "      <td>...</td>\n",
       "      <td>...</td>\n",
       "      <td>...</td>\n",
       "      <td>...</td>\n",
       "    </tr>\n",
       "    <tr>\n",
       "      <th>825</th>\n",
       "      <td>656</td>\n",
       "      <td>1</td>\n",
       "      <td>1948-07-09T00:00:00</td>\n",
       "      <td>1948-07-10T00:00:00</td>\n",
       "      <td>1948-07-13T00:00:00</td>\n",
       "      <td>1948-07-14T00:00:00</td>\n",
       "      <td>7200.0</td>\n",
       "      <td>4320.0</td>\n",
       "    </tr>\n",
       "    <tr>\n",
       "      <th>826</th>\n",
       "      <td>657</td>\n",
       "      <td>1</td>\n",
       "      <td>1940-05-10T00:00:00</td>\n",
       "      <td>1940-05-11T00:00:00</td>\n",
       "      <td>1940-05-21T00:00:00</td>\n",
       "      <td>1940-05-22T00:00:00</td>\n",
       "      <td>17280.0</td>\n",
       "      <td>14400.0</td>\n",
       "    </tr>\n",
       "    <tr>\n",
       "      <th>827</th>\n",
       "      <td>658</td>\n",
       "      <td>1</td>\n",
       "      <td>1940-05-13T00:00:00</td>\n",
       "      <td>1940-05-14T00:00:00</td>\n",
       "      <td>1940-05-17T00:00:00</td>\n",
       "      <td>1940-05-18T00:00:00</td>\n",
       "      <td>7200.0</td>\n",
       "      <td>4320.0</td>\n",
       "    </tr>\n",
       "    <tr>\n",
       "      <th>828</th>\n",
       "      <td>659</td>\n",
       "      <td>1</td>\n",
       "      <td>1940-05-21T00:00:00</td>\n",
       "      <td>1940-05-22T00:00:00</td>\n",
       "      <td>1940-05-22T00:00:00</td>\n",
       "      <td>1940-05-23T00:00:00</td>\n",
       "      <td>2880.0</td>\n",
       "      <td>0.0</td>\n",
       "    </tr>\n",
       "    <tr>\n",
       "      <th>829</th>\n",
       "      <td>660</td>\n",
       "      <td>1</td>\n",
       "      <td>1940-06-01T00:00:00</td>\n",
       "      <td>1940-06-02T00:00:00</td>\n",
       "      <td>1940-06-01T00:00:00</td>\n",
       "      <td>1940-06-02T00:00:00</td>\n",
       "      <td>1440.0</td>\n",
       "      <td>0.0</td>\n",
       "    </tr>\n",
       "  </tbody>\n",
       "</table>\n",
       "<p>828 rows × 8 columns</p>\n",
       "</div>"
      ],
      "text/plain": [
       "     isqno  atp_number       start_time_min       start_time_max  \\\n",
       "0        1           1  1600-07-02T14:30:00  1600-07-02T14:30:00   \n",
       "1        2           1  1620-11-08T12:00:00  1620-11-08T12:00:00   \n",
       "2        3           1  1622-05-06T03:30:00  1622-05-06T03:30:00   \n",
       "3        3           2  1622-05-06T14:00:00  1622-05-06T14:00:00   \n",
       "4        4           1  1626-04-25T00:00:00  1626-04-26T00:00:00   \n",
       "..     ...         ...                  ...                  ...   \n",
       "825    656           1  1948-07-09T00:00:00  1948-07-10T00:00:00   \n",
       "826    657           1  1940-05-10T00:00:00  1940-05-11T00:00:00   \n",
       "827    658           1  1940-05-13T00:00:00  1940-05-14T00:00:00   \n",
       "828    659           1  1940-05-21T00:00:00  1940-05-22T00:00:00   \n",
       "829    660           1  1940-06-01T00:00:00  1940-06-02T00:00:00   \n",
       "\n",
       "            end_time_min         end_time_max  duration_max  duration_min  \n",
       "0    1600-07-02T19:30:00  1600-07-02T19:30:00         300.0         300.0  \n",
       "1    1620-11-08T13:00:00  1620-11-08T13:00:00          60.0          60.0  \n",
       "2    1622-05-06T10:00:00  1622-05-06T10:00:00         390.0         390.0  \n",
       "3    1622-05-06T19:00:00  1622-05-06T19:00:00         300.0         300.0  \n",
       "4    1626-04-25T00:00:00  1626-04-26T00:00:00        1440.0           0.0  \n",
       "..                   ...                  ...           ...           ...  \n",
       "825  1948-07-13T00:00:00  1948-07-14T00:00:00        7200.0        4320.0  \n",
       "826  1940-05-21T00:00:00  1940-05-22T00:00:00       17280.0       14400.0  \n",
       "827  1940-05-17T00:00:00  1940-05-18T00:00:00        7200.0        4320.0  \n",
       "828  1940-05-22T00:00:00  1940-05-23T00:00:00        2880.0           0.0  \n",
       "829  1940-06-01T00:00:00  1940-06-02T00:00:00        1440.0           0.0  \n",
       "\n",
       "[828 rows x 8 columns]"
      ]
     },
     "execution_count": 25,
     "metadata": {},
     "output_type": "execute_result"
    }
   ],
   "source": [
    "#plt.plot(start_colomns)\n",
    "\n",
    "time_max = dataArmyNoNan['start_time_max']\n",
    "time_max\n",
    "colomns_double = dataArmyNoNan.drop(columns=\"duration_only\")\n",
    "colomns_double"
   ]
  },
  {
   "cell_type": "code",
   "execution_count": 29,
   "metadata": {},
   "outputs": [
    {
     "data": {
      "text/html": [
       "<div>\n",
       "<style scoped>\n",
       "    .dataframe tbody tr th:only-of-type {\n",
       "        vertical-align: middle;\n",
       "    }\n",
       "\n",
       "    .dataframe tbody tr th {\n",
       "        vertical-align: top;\n",
       "    }\n",
       "\n",
       "    .dataframe thead th {\n",
       "        text-align: right;\n",
       "    }\n",
       "</style>\n",
       "<table border=\"1\" class=\"dataframe\">\n",
       "  <thead>\n",
       "    <tr style=\"text-align: right;\">\n",
       "      <th></th>\n",
       "      <th>isqno</th>\n",
       "      <th>atp_number</th>\n",
       "      <th>start_time_min</th>\n",
       "      <th>start_time_max</th>\n",
       "      <th>end_time_min</th>\n",
       "      <th>end_time_max</th>\n",
       "      <th>duration_max</th>\n",
       "    </tr>\n",
       "  </thead>\n",
       "  <tbody>\n",
       "    <tr>\n",
       "      <th>0</th>\n",
       "      <td>1</td>\n",
       "      <td>1</td>\n",
       "      <td>1600-07-02T14:30:00</td>\n",
       "      <td>1600-07-02T14:30:00</td>\n",
       "      <td>1600-07-02T19:30:00</td>\n",
       "      <td>1600-07-02T19:30:00</td>\n",
       "      <td>300.0</td>\n",
       "    </tr>\n",
       "    <tr>\n",
       "      <th>1</th>\n",
       "      <td>2</td>\n",
       "      <td>1</td>\n",
       "      <td>1620-11-08T12:00:00</td>\n",
       "      <td>1620-11-08T12:00:00</td>\n",
       "      <td>1620-11-08T13:00:00</td>\n",
       "      <td>1620-11-08T13:00:00</td>\n",
       "      <td>60.0</td>\n",
       "    </tr>\n",
       "    <tr>\n",
       "      <th>2</th>\n",
       "      <td>3</td>\n",
       "      <td>1</td>\n",
       "      <td>1622-05-06T03:30:00</td>\n",
       "      <td>1622-05-06T03:30:00</td>\n",
       "      <td>1622-05-06T10:00:00</td>\n",
       "      <td>1622-05-06T10:00:00</td>\n",
       "      <td>390.0</td>\n",
       "    </tr>\n",
       "    <tr>\n",
       "      <th>3</th>\n",
       "      <td>3</td>\n",
       "      <td>2</td>\n",
       "      <td>1622-05-06T14:00:00</td>\n",
       "      <td>1622-05-06T14:00:00</td>\n",
       "      <td>1622-05-06T19:00:00</td>\n",
       "      <td>1622-05-06T19:00:00</td>\n",
       "      <td>300.0</td>\n",
       "    </tr>\n",
       "    <tr>\n",
       "      <th>4</th>\n",
       "      <td>4</td>\n",
       "      <td>1</td>\n",
       "      <td>1626-04-25T00:00:00</td>\n",
       "      <td>1626-04-26T00:00:00</td>\n",
       "      <td>1626-04-25T00:00:00</td>\n",
       "      <td>1626-04-26T00:00:00</td>\n",
       "      <td>1440.0</td>\n",
       "    </tr>\n",
       "    <tr>\n",
       "      <th>...</th>\n",
       "      <td>...</td>\n",
       "      <td>...</td>\n",
       "      <td>...</td>\n",
       "      <td>...</td>\n",
       "      <td>...</td>\n",
       "      <td>...</td>\n",
       "      <td>...</td>\n",
       "    </tr>\n",
       "    <tr>\n",
       "      <th>825</th>\n",
       "      <td>656</td>\n",
       "      <td>1</td>\n",
       "      <td>1948-07-09T00:00:00</td>\n",
       "      <td>1948-07-10T00:00:00</td>\n",
       "      <td>1948-07-13T00:00:00</td>\n",
       "      <td>1948-07-14T00:00:00</td>\n",
       "      <td>7200.0</td>\n",
       "    </tr>\n",
       "    <tr>\n",
       "      <th>826</th>\n",
       "      <td>657</td>\n",
       "      <td>1</td>\n",
       "      <td>1940-05-10T00:00:00</td>\n",
       "      <td>1940-05-11T00:00:00</td>\n",
       "      <td>1940-05-21T00:00:00</td>\n",
       "      <td>1940-05-22T00:00:00</td>\n",
       "      <td>17280.0</td>\n",
       "    </tr>\n",
       "    <tr>\n",
       "      <th>827</th>\n",
       "      <td>658</td>\n",
       "      <td>1</td>\n",
       "      <td>1940-05-13T00:00:00</td>\n",
       "      <td>1940-05-14T00:00:00</td>\n",
       "      <td>1940-05-17T00:00:00</td>\n",
       "      <td>1940-05-18T00:00:00</td>\n",
       "      <td>7200.0</td>\n",
       "    </tr>\n",
       "    <tr>\n",
       "      <th>828</th>\n",
       "      <td>659</td>\n",
       "      <td>1</td>\n",
       "      <td>1940-05-21T00:00:00</td>\n",
       "      <td>1940-05-22T00:00:00</td>\n",
       "      <td>1940-05-22T00:00:00</td>\n",
       "      <td>1940-05-23T00:00:00</td>\n",
       "      <td>2880.0</td>\n",
       "    </tr>\n",
       "    <tr>\n",
       "      <th>829</th>\n",
       "      <td>660</td>\n",
       "      <td>1</td>\n",
       "      <td>1940-06-01T00:00:00</td>\n",
       "      <td>1940-06-02T00:00:00</td>\n",
       "      <td>1940-06-01T00:00:00</td>\n",
       "      <td>1940-06-02T00:00:00</td>\n",
       "      <td>1440.0</td>\n",
       "    </tr>\n",
       "  </tbody>\n",
       "</table>\n",
       "<p>828 rows × 7 columns</p>\n",
       "</div>"
      ],
      "text/plain": [
       "     isqno  atp_number       start_time_min       start_time_max  \\\n",
       "0        1           1  1600-07-02T14:30:00  1600-07-02T14:30:00   \n",
       "1        2           1  1620-11-08T12:00:00  1620-11-08T12:00:00   \n",
       "2        3           1  1622-05-06T03:30:00  1622-05-06T03:30:00   \n",
       "3        3           2  1622-05-06T14:00:00  1622-05-06T14:00:00   \n",
       "4        4           1  1626-04-25T00:00:00  1626-04-26T00:00:00   \n",
       "..     ...         ...                  ...                  ...   \n",
       "825    656           1  1948-07-09T00:00:00  1948-07-10T00:00:00   \n",
       "826    657           1  1940-05-10T00:00:00  1940-05-11T00:00:00   \n",
       "827    658           1  1940-05-13T00:00:00  1940-05-14T00:00:00   \n",
       "828    659           1  1940-05-21T00:00:00  1940-05-22T00:00:00   \n",
       "829    660           1  1940-06-01T00:00:00  1940-06-02T00:00:00   \n",
       "\n",
       "            end_time_min         end_time_max  duration_max  \n",
       "0    1600-07-02T19:30:00  1600-07-02T19:30:00         300.0  \n",
       "1    1620-11-08T13:00:00  1620-11-08T13:00:00          60.0  \n",
       "2    1622-05-06T10:00:00  1622-05-06T10:00:00         390.0  \n",
       "3    1622-05-06T19:00:00  1622-05-06T19:00:00         300.0  \n",
       "4    1626-04-25T00:00:00  1626-04-26T00:00:00        1440.0  \n",
       "..                   ...                  ...           ...  \n",
       "825  1948-07-13T00:00:00  1948-07-14T00:00:00        7200.0  \n",
       "826  1940-05-21T00:00:00  1940-05-22T00:00:00       17280.0  \n",
       "827  1940-05-17T00:00:00  1940-05-18T00:00:00        7200.0  \n",
       "828  1940-05-22T00:00:00  1940-05-23T00:00:00        2880.0  \n",
       "829  1940-06-01T00:00:00  1940-06-02T00:00:00        1440.0  \n",
       "\n",
       "[828 rows x 7 columns]"
      ]
     },
     "execution_count": 29,
     "metadata": {},
     "output_type": "execute_result"
    }
   ],
   "source": [
    "other_colomns_drop = colomns_double.drop(columns=\"duration_min\")\n",
    "other_colomns_drop"
   ]
  },
  {
   "cell_type": "code",
   "execution_count": 56,
   "metadata": {},
   "outputs": [
    {
     "data": {
      "text/html": [
       "<div>\n",
       "<style scoped>\n",
       "    .dataframe tbody tr th:only-of-type {\n",
       "        vertical-align: middle;\n",
       "    }\n",
       "\n",
       "    .dataframe tbody tr th {\n",
       "        vertical-align: top;\n",
       "    }\n",
       "\n",
       "    .dataframe thead th {\n",
       "        text-align: right;\n",
       "    }\n",
       "</style>\n",
       "<table border=\"1\" class=\"dataframe\">\n",
       "  <thead>\n",
       "    <tr style=\"text-align: right;\">\n",
       "      <th></th>\n",
       "      <th>start_time_min</th>\n",
       "      <th>start_time_max</th>\n",
       "    </tr>\n",
       "  </thead>\n",
       "  <tbody>\n",
       "    <tr>\n",
       "      <th>0</th>\n",
       "      <td>1600-07-02T14:30:00</td>\n",
       "      <td>1600-07-02T14:30:00</td>\n",
       "    </tr>\n",
       "    <tr>\n",
       "      <th>1</th>\n",
       "      <td>1620-11-08T12:00:00</td>\n",
       "      <td>1620-11-08T12:00:00</td>\n",
       "    </tr>\n",
       "    <tr>\n",
       "      <th>2</th>\n",
       "      <td>1622-05-06T03:30:00</td>\n",
       "      <td>1622-05-06T03:30:00</td>\n",
       "    </tr>\n",
       "    <tr>\n",
       "      <th>3</th>\n",
       "      <td>1622-05-06T14:00:00</td>\n",
       "      <td>1622-05-06T14:00:00</td>\n",
       "    </tr>\n",
       "    <tr>\n",
       "      <th>4</th>\n",
       "      <td>1626-04-25T00:00:00</td>\n",
       "      <td>1626-04-26T00:00:00</td>\n",
       "    </tr>\n",
       "    <tr>\n",
       "      <th>...</th>\n",
       "      <td>...</td>\n",
       "      <td>...</td>\n",
       "    </tr>\n",
       "    <tr>\n",
       "      <th>825</th>\n",
       "      <td>1948-07-09T00:00:00</td>\n",
       "      <td>1948-07-10T00:00:00</td>\n",
       "    </tr>\n",
       "    <tr>\n",
       "      <th>826</th>\n",
       "      <td>1940-05-10T00:00:00</td>\n",
       "      <td>1940-05-11T00:00:00</td>\n",
       "    </tr>\n",
       "    <tr>\n",
       "      <th>827</th>\n",
       "      <td>1940-05-13T00:00:00</td>\n",
       "      <td>1940-05-14T00:00:00</td>\n",
       "    </tr>\n",
       "    <tr>\n",
       "      <th>828</th>\n",
       "      <td>1940-05-21T00:00:00</td>\n",
       "      <td>1940-05-22T00:00:00</td>\n",
       "    </tr>\n",
       "    <tr>\n",
       "      <th>829</th>\n",
       "      <td>1940-06-01T00:00:00</td>\n",
       "      <td>1940-06-02T00:00:00</td>\n",
       "    </tr>\n",
       "  </tbody>\n",
       "</table>\n",
       "<p>828 rows × 2 columns</p>\n",
       "</div>"
      ],
      "text/plain": [
       "          start_time_min       start_time_max\n",
       "0    1600-07-02T14:30:00  1600-07-02T14:30:00\n",
       "1    1620-11-08T12:00:00  1620-11-08T12:00:00\n",
       "2    1622-05-06T03:30:00  1622-05-06T03:30:00\n",
       "3    1622-05-06T14:00:00  1622-05-06T14:00:00\n",
       "4    1626-04-25T00:00:00  1626-04-26T00:00:00\n",
       "..                   ...                  ...\n",
       "825  1948-07-09T00:00:00  1948-07-10T00:00:00\n",
       "826  1940-05-10T00:00:00  1940-05-11T00:00:00\n",
       "827  1940-05-13T00:00:00  1940-05-14T00:00:00\n",
       "828  1940-05-21T00:00:00  1940-05-22T00:00:00\n",
       "829  1940-06-01T00:00:00  1940-06-02T00:00:00\n",
       "\n",
       "[828 rows x 2 columns]"
      ]
     },
     "execution_count": 56,
     "metadata": {},
     "output_type": "execute_result"
    }
   ],
   "source": [
    "data_start_time = other_colomns_drop.drop(columns=[\"duration_max\", 'end_time_max','end_time_min','atp_number','isqno'])\n",
    "data_start_time"
   ]
  },
  {
   "cell_type": "code",
   "execution_count": 43,
   "metadata": {},
   "outputs": [],
   "source": [
    "data_start_time_ = data_start_time.dropna()\n",
    "\n",
    "X_start_time = data_start_time_['start_time_min']\n",
    "\n",
    "Y_start_time = data_start_time_['start_time_max']"
   ]
  },
  {
   "cell_type": "code",
   "execution_count": 45,
   "metadata": {},
   "outputs": [
    {
     "data": {
      "text/plain": [
       "[<matplotlib.lines.Line2D at 0x7fc65f493f40>]"
      ]
     },
     "execution_count": 45,
     "metadata": {},
     "output_type": "execute_result"
    },
    {
     "data": {
      "image/png": "[encoded data removed]",
      "text/plain": [
       "<Figure size 432x288 with 1 Axes>"
      ]
     },
     "metadata": {
      "needs_background": "light"
     },
     "output_type": "display_data"
    }
   ],
   "source": [
    "plt.plot_date(X_start_time, Y_start_time)"
   ]
  },
  {
   "cell_type": "code",
   "execution_count": 48,
   "metadata": {},
   "outputs": [
    {
     "data": {
      "text/html": [
       "<div>\n",
       "<style scoped>\n",
       "    .dataframe tbody tr th:only-of-type {\n",
       "        vertical-align: middle;\n",
       "    }\n",
       "\n",
       "    .dataframe tbody tr th {\n",
       "        vertical-align: top;\n",
       "    }\n",
       "\n",
       "    .dataframe thead th {\n",
       "        text-align: right;\n",
       "    }\n",
       "</style>\n",
       "<table border=\"1\" class=\"dataframe\">\n",
       "  <thead>\n",
       "    <tr style=\"text-align: right;\">\n",
       "      <th></th>\n",
       "      <th>duration_min</th>\n",
       "      <th>duration_max</th>\n",
       "    </tr>\n",
       "  </thead>\n",
       "  <tbody>\n",
       "    <tr>\n",
       "      <th>0</th>\n",
       "      <td>300.0</td>\n",
       "      <td>300.0</td>\n",
       "    </tr>\n",
       "    <tr>\n",
       "      <th>1</th>\n",
       "      <td>60.0</td>\n",
       "      <td>60.0</td>\n",
       "    </tr>\n",
       "    <tr>\n",
       "      <th>2</th>\n",
       "      <td>390.0</td>\n",
       "      <td>390.0</td>\n",
       "    </tr>\n",
       "    <tr>\n",
       "      <th>3</th>\n",
       "      <td>300.0</td>\n",
       "      <td>300.0</td>\n",
       "    </tr>\n",
       "    <tr>\n",
       "      <th>4</th>\n",
       "      <td>0.0</td>\n",
       "      <td>1440.0</td>\n",
       "    </tr>\n",
       "    <tr>\n",
       "      <th>...</th>\n",
       "      <td>...</td>\n",
       "      <td>...</td>\n",
       "    </tr>\n",
       "    <tr>\n",
       "      <th>825</th>\n",
       "      <td>4320.0</td>\n",
       "      <td>7200.0</td>\n",
       "    </tr>\n",
       "    <tr>\n",
       "      <th>826</th>\n",
       "      <td>14400.0</td>\n",
       "      <td>17280.0</td>\n",
       "    </tr>\n",
       "    <tr>\n",
       "      <th>827</th>\n",
       "      <td>4320.0</td>\n",
       "      <td>7200.0</td>\n",
       "    </tr>\n",
       "    <tr>\n",
       "      <th>828</th>\n",
       "      <td>0.0</td>\n",
       "      <td>2880.0</td>\n",
       "    </tr>\n",
       "    <tr>\n",
       "      <th>829</th>\n",
       "      <td>0.0</td>\n",
       "      <td>1440.0</td>\n",
       "    </tr>\n",
       "  </tbody>\n",
       "</table>\n",
       "<p>828 rows × 2 columns</p>\n",
       "</div>"
      ],
      "text/plain": [
       "     duration_min  duration_max\n",
       "0           300.0         300.0\n",
       "1            60.0          60.0\n",
       "2           390.0         390.0\n",
       "3           300.0         300.0\n",
       "4             0.0        1440.0\n",
       "..            ...           ...\n",
       "825        4320.0        7200.0\n",
       "826       14400.0       17280.0\n",
       "827        4320.0        7200.0\n",
       "828           0.0        2880.0\n",
       "829           0.0        1440.0\n",
       "\n",
       "[828 rows x 2 columns]"
      ]
     },
     "execution_count": 48,
     "metadata": {},
     "output_type": "execute_result"
    }
   ],
   "source": [
    "colomns_duration = dataArmyNoNan.filter(['duration_min', 'duration_max'])\n",
    "colomns_duration"
   ]
  },
  {
   "cell_type": "code",
   "execution_count": 52,
   "metadata": {},
   "outputs": [
    {
     "data": {
      "text/plain": [
       "0        300.0\n",
       "1         60.0\n",
       "2        390.0\n",
       "3        300.0\n",
       "4       1440.0\n",
       "        ...   \n",
       "825     7200.0\n",
       "826    17280.0\n",
       "827     7200.0\n",
       "828     2880.0\n",
       "829     1440.0\n",
       "Name: duration_max, Length: 828, dtype: float64"
      ]
     },
     "execution_count": 52,
     "metadata": {},
     "output_type": "execute_result"
    }
   ],
   "source": [
    "colomns_duration_Max = colomns_duration['duration_max']\n",
    "colomns_duration_Max"
   ]
  },
  {
   "cell_type": "code",
   "execution_count": 53,
   "metadata": {},
   "outputs": [
    {
     "data": {
      "text/plain": [
       "[<matplotlib.lines.Line2D at 0x7fc661152520>]"
      ]
     },
     "execution_count": 53,
     "metadata": {},
     "output_type": "execute_result"
    },
    {
     "data": {
      "image/png": "[encoded data removed]",
      "text/plain": [
       "<Figure size 432x288 with 1 Axes>"
      ]
     },
     "metadata": {
      "needs_background": "light"
     },
     "output_type": "display_data"
    }
   ],
   "source": [
    "plt.plot(colomns_duration_Max)"
   ]
  },
  {
   "cell_type": "code",
   "execution_count": 54,
   "metadata": {},
   "outputs": [
    {
     "data": {
      "text/plain": [
       "0        300.0\n",
       "1         60.0\n",
       "2        390.0\n",
       "3        300.0\n",
       "4          0.0\n",
       "        ...   \n",
       "825     4320.0\n",
       "826    14400.0\n",
       "827     4320.0\n",
       "828        0.0\n",
       "829        0.0\n",
       "Name: duration_min, Length: 828, dtype: float64"
      ]
     },
     "execution_count": 54,
     "metadata": {},
     "output_type": "execute_result"
    }
   ],
   "source": [
    "colomns_duration_min = colomns_duration['duration_min']\n",
    "colomns_duration_min"
   ]
  },
  {
   "cell_type": "code",
   "execution_count": 55,
   "metadata": {},
   "outputs": [
    {
     "data": {
      "text/plain": [
       "[<matplotlib.lines.Line2D at 0x7fc66111a7c0>]"
      ]
     },
     "execution_count": 55,
     "metadata": {},
     "output_type": "execute_result"
    },
    {
     "data": {
      "image/png": "[encoded data removed]",
      "text/plain": [
       "<Figure size 432x288 with 1 Axes>"
      ]
     },
     "metadata": {
      "needs_background": "light"
     },
     "output_type": "display_data"
    }
   ],
   "source": [
    "plt.plot(colomns_duration_min)"
   ]
  },
  {
   "cell_type": "code",
   "execution_count": 58,
   "metadata": {},
   "outputs": [
    {
     "data": {
      "text/html": [
       "<div>\n",
       "<style scoped>\n",
       "    .dataframe tbody tr th:only-of-type {\n",
       "        vertical-align: middle;\n",
       "    }\n",
       "\n",
       "    .dataframe tbody tr th {\n",
       "        vertical-align: top;\n",
       "    }\n",
       "\n",
       "    .dataframe thead th {\n",
       "        text-align: right;\n",
       "    }\n",
       "</style>\n",
       "<table border=\"1\" class=\"dataframe\">\n",
       "  <thead>\n",
       "    <tr style=\"text-align: right;\">\n",
       "      <th></th>\n",
       "      <th>start_time_min</th>\n",
       "      <th>start_time_max</th>\n",
       "    </tr>\n",
       "  </thead>\n",
       "  <tbody>\n",
       "    <tr>\n",
       "      <th>count</th>\n",
       "      <td>828</td>\n",
       "      <td>828</td>\n",
       "    </tr>\n",
       "    <tr>\n",
       "      <th>unique</th>\n",
       "      <td>738</td>\n",
       "      <td>737</td>\n",
       "    </tr>\n",
       "    <tr>\n",
       "      <th>top</th>\n",
       "      <td>1944-12-16T00:00:00</td>\n",
       "      <td>1944-12-17T00:00:00</td>\n",
       "    </tr>\n",
       "    <tr>\n",
       "      <th>freq</th>\n",
       "      <td>7</td>\n",
       "      <td>7</td>\n",
       "    </tr>\n",
       "  </tbody>\n",
       "</table>\n",
       "</div>"
      ],
      "text/plain": [
       "             start_time_min       start_time_max\n",
       "count                   828                  828\n",
       "unique                  738                  737\n",
       "top     1944-12-16T00:00:00  1944-12-17T00:00:00\n",
       "freq                      7                    7"
      ]
     },
     "execution_count": 58,
     "metadata": {},
     "output_type": "execute_result"
    }
   ],
   "source": [
    "data_start_time.describe().round(2)"
   ]
  },
  {
   "cell_type": "code",
   "execution_count": 60,
   "metadata": {},
   "outputs": [
    {
     "data": {
      "text/plain": [
       "count       828.00\n",
       "mean       3862.74\n",
       "std       11166.22\n",
       "min          10.00\n",
       "25%         300.00\n",
       "50%         720.00\n",
       "75%        2880.00\n",
       "max      187200.00\n",
       "Name: duration_max, dtype: float64"
      ]
     },
     "execution_count": 60,
     "metadata": {},
     "output_type": "execute_result"
    }
   ],
   "source": [
    "colomns_duration_Max.describe().round(2)"
   ]
  },
  {
   "cell_type": "code",
   "execution_count": 61,
   "metadata": {},
   "outputs": [
    {
     "data": {
      "text/html": [
       "<div>\n",
       "<style scoped>\n",
       "    .dataframe tbody tr th:only-of-type {\n",
       "        vertical-align: middle;\n",
       "    }\n",
       "\n",
       "    .dataframe tbody tr th {\n",
       "        vertical-align: top;\n",
       "    }\n",
       "\n",
       "    .dataframe thead th {\n",
       "        text-align: right;\n",
       "    }\n",
       "</style>\n",
       "<table border=\"1\" class=\"dataframe\">\n",
       "  <thead>\n",
       "    <tr style=\"text-align: right;\">\n",
       "      <th></th>\n",
       "      <th>isqno</th>\n",
       "      <th>atp_number</th>\n",
       "      <th>start_time_min</th>\n",
       "      <th>start_time_max</th>\n",
       "      <th>end_time_min</th>\n",
       "      <th>end_time_max</th>\n",
       "      <th>duration_max</th>\n",
       "      <th>duration_min</th>\n",
       "      <th>duration_only</th>\n",
       "    </tr>\n",
       "  </thead>\n",
       "  <tbody>\n",
       "    <tr>\n",
       "      <th>0</th>\n",
       "      <td>1</td>\n",
       "      <td>1</td>\n",
       "      <td>1600-07-02T14:30:00</td>\n",
       "      <td>1600-07-02T14:30:00</td>\n",
       "      <td>1600-07-02T19:30:00</td>\n",
       "      <td>1600-07-02T19:30:00</td>\n",
       "      <td>300.0</td>\n",
       "      <td>300.0</td>\n",
       "      <td>0</td>\n",
       "    </tr>\n",
       "    <tr>\n",
       "      <th>1</th>\n",
       "      <td>2</td>\n",
       "      <td>1</td>\n",
       "      <td>1620-11-08T12:00:00</td>\n",
       "      <td>1620-11-08T12:00:00</td>\n",
       "      <td>1620-11-08T13:00:00</td>\n",
       "      <td>1620-11-08T13:00:00</td>\n",
       "      <td>60.0</td>\n",
       "      <td>60.0</td>\n",
       "      <td>0</td>\n",
       "    </tr>\n",
       "    <tr>\n",
       "      <th>2</th>\n",
       "      <td>3</td>\n",
       "      <td>1</td>\n",
       "      <td>1622-05-06T03:30:00</td>\n",
       "      <td>1622-05-06T03:30:00</td>\n",
       "      <td>1622-05-06T10:00:00</td>\n",
       "      <td>1622-05-06T10:00:00</td>\n",
       "      <td>390.0</td>\n",
       "      <td>390.0</td>\n",
       "      <td>0</td>\n",
       "    </tr>\n",
       "    <tr>\n",
       "      <th>3</th>\n",
       "      <td>3</td>\n",
       "      <td>2</td>\n",
       "      <td>1622-05-06T14:00:00</td>\n",
       "      <td>1622-05-06T14:00:00</td>\n",
       "      <td>1622-05-06T19:00:00</td>\n",
       "      <td>1622-05-06T19:00:00</td>\n",
       "      <td>300.0</td>\n",
       "      <td>300.0</td>\n",
       "      <td>0</td>\n",
       "    </tr>\n",
       "    <tr>\n",
       "      <th>4</th>\n",
       "      <td>4</td>\n",
       "      <td>1</td>\n",
       "      <td>1626-04-25T00:00:00</td>\n",
       "      <td>1626-04-26T00:00:00</td>\n",
       "      <td>1626-04-25T00:00:00</td>\n",
       "      <td>1626-04-26T00:00:00</td>\n",
       "      <td>1440.0</td>\n",
       "      <td>0.0</td>\n",
       "      <td>0</td>\n",
       "    </tr>\n",
       "    <tr>\n",
       "      <th>...</th>\n",
       "      <td>...</td>\n",
       "      <td>...</td>\n",
       "      <td>...</td>\n",
       "      <td>...</td>\n",
       "      <td>...</td>\n",
       "      <td>...</td>\n",
       "      <td>...</td>\n",
       "      <td>...</td>\n",
       "      <td>...</td>\n",
       "    </tr>\n",
       "    <tr>\n",
       "      <th>825</th>\n",
       "      <td>656</td>\n",
       "      <td>1</td>\n",
       "      <td>1948-07-09T00:00:00</td>\n",
       "      <td>1948-07-10T00:00:00</td>\n",
       "      <td>1948-07-13T00:00:00</td>\n",
       "      <td>1948-07-14T00:00:00</td>\n",
       "      <td>7200.0</td>\n",
       "      <td>4320.0</td>\n",
       "      <td>0</td>\n",
       "    </tr>\n",
       "    <tr>\n",
       "      <th>826</th>\n",
       "      <td>657</td>\n",
       "      <td>1</td>\n",
       "      <td>1940-05-10T00:00:00</td>\n",
       "      <td>1940-05-11T00:00:00</td>\n",
       "      <td>1940-05-21T00:00:00</td>\n",
       "      <td>1940-05-22T00:00:00</td>\n",
       "      <td>17280.0</td>\n",
       "      <td>14400.0</td>\n",
       "      <td>0</td>\n",
       "    </tr>\n",
       "    <tr>\n",
       "      <th>827</th>\n",
       "      <td>658</td>\n",
       "      <td>1</td>\n",
       "      <td>1940-05-13T00:00:00</td>\n",
       "      <td>1940-05-14T00:00:00</td>\n",
       "      <td>1940-05-17T00:00:00</td>\n",
       "      <td>1940-05-18T00:00:00</td>\n",
       "      <td>7200.0</td>\n",
       "      <td>4320.0</td>\n",
       "      <td>0</td>\n",
       "    </tr>\n",
       "    <tr>\n",
       "      <th>828</th>\n",
       "      <td>659</td>\n",
       "      <td>1</td>\n",
       "      <td>1940-05-21T00:00:00</td>\n",
       "      <td>1940-05-22T00:00:00</td>\n",
       "      <td>1940-05-22T00:00:00</td>\n",
       "      <td>1940-05-23T00:00:00</td>\n",
       "      <td>2880.0</td>\n",
       "      <td>0.0</td>\n",
       "      <td>0</td>\n",
       "    </tr>\n",
       "    <tr>\n",
       "      <th>829</th>\n",
       "      <td>660</td>\n",
       "      <td>1</td>\n",
       "      <td>1940-06-01T00:00:00</td>\n",
       "      <td>1940-06-02T00:00:00</td>\n",
       "      <td>1940-06-01T00:00:00</td>\n",
       "      <td>1940-06-02T00:00:00</td>\n",
       "      <td>1440.0</td>\n",
       "      <td>0.0</td>\n",
       "      <td>0</td>\n",
       "    </tr>\n",
       "  </tbody>\n",
       "</table>\n",
       "<p>828 rows × 9 columns</p>\n",
       "</div>"
      ],
      "text/plain": [
       "     isqno  atp_number       start_time_min       start_time_max  \\\n",
       "0        1           1  1600-07-02T14:30:00  1600-07-02T14:30:00   \n",
       "1        2           1  1620-11-08T12:00:00  1620-11-08T12:00:00   \n",
       "2        3           1  1622-05-06T03:30:00  1622-05-06T03:30:00   \n",
       "3        3           2  1622-05-06T14:00:00  1622-05-06T14:00:00   \n",
       "4        4           1  1626-04-25T00:00:00  1626-04-26T00:00:00   \n",
       "..     ...         ...                  ...                  ...   \n",
       "825    656           1  1948-07-09T00:00:00  1948-07-10T00:00:00   \n",
       "826    657           1  1940-05-10T00:00:00  1940-05-11T00:00:00   \n",
       "827    658           1  1940-05-13T00:00:00  1940-05-14T00:00:00   \n",
       "828    659           1  1940-05-21T00:00:00  1940-05-22T00:00:00   \n",
       "829    660           1  1940-06-01T00:00:00  1940-06-02T00:00:00   \n",
       "\n",
       "            end_time_min         end_time_max  duration_max  duration_min  \\\n",
       "0    1600-07-02T19:30:00  1600-07-02T19:30:00         300.0         300.0   \n",
       "1    1620-11-08T13:00:00  1620-11-08T13:00:00          60.0          60.0   \n",
       "2    1622-05-06T10:00:00  1622-05-06T10:00:00         390.0         390.0   \n",
       "3    1622-05-06T19:00:00  1622-05-06T19:00:00         300.0         300.0   \n",
       "4    1626-04-25T00:00:00  1626-04-26T00:00:00        1440.0           0.0   \n",
       "..                   ...                  ...           ...           ...   \n",
       "825  1948-07-13T00:00:00  1948-07-14T00:00:00        7200.0        4320.0   \n",
       "826  1940-05-21T00:00:00  1940-05-22T00:00:00       17280.0       14400.0   \n",
       "827  1940-05-17T00:00:00  1940-05-18T00:00:00        7200.0        4320.0   \n",
       "828  1940-05-22T00:00:00  1940-05-23T00:00:00        2880.0           0.0   \n",
       "829  1940-06-01T00:00:00  1940-06-02T00:00:00        1440.0           0.0   \n",
       "\n",
       "     duration_only  \n",
       "0                0  \n",
       "1                0  \n",
       "2                0  \n",
       "3                0  \n",
       "4                0  \n",
       "..             ...  \n",
       "825              0  \n",
       "826              0  \n",
       "827              0  \n",
       "828              0  \n",
       "829              0  \n",
       "\n",
       "[828 rows x 9 columns]"
      ]
     },
     "execution_count": 61,
     "metadata": {},
     "output_type": "execute_result"
    }
   ],
   "source": [
    "dataArmyNoNan"
   ]
  },
  {
   "cell_type": "code",
   "execution_count": 78,
   "metadata": {},
   "outputs": [
    {
     "data": {
      "text/plain": [
       "[<matplotlib.lines.Line2D at 0x7fc660680340>]"
      ]
     },
     "execution_count": 78,
     "metadata": {},
     "output_type": "execute_result"
    },
    {
     "data": {
      "image/png": "[encoded data removed]",
      "text/plain": [
       "<Figure size 432x288 with 1 Axes>"
      ]
     },
     "metadata": {
      "needs_background": "light"
     },
     "output_type": "display_data"
    }
   ],
   "source": [
    "isqno_columns = dataArmyNoNan.filter(['isqno'])\n",
    "isqno_columns.describe()\n",
    "plt.plot(isqno_columns)"
   ]
  },
  {
   "cell_type": "code",
   "execution_count": 75,
   "metadata": {},
   "outputs": [
    {
     "data": {
      "text/plain": [
       "[<matplotlib.lines.Line2D at 0x7fc6612ff640>]"
      ]
     },
     "execution_count": 75,
     "metadata": {},
     "output_type": "execute_result"
    },
    {
     "data": {
      "image/png": "[encoded data removed]",
      "text/plain": [
       "<Figure size 432x288 with 1 Axes>"
      ]
     },
     "metadata": {
      "needs_background": "light"
     },
     "output_type": "display_data"
    }
   ],
   "source": [
    "atp_number = dataArmyNoNan.filter(['atp_number'])\n",
    "atp_number.describe()\n",
    "plt.plot(atp_number)"
   ]
  },
  {
   "cell_type": "code",
   "execution_count": 84,
   "metadata": {},
   "outputs": [
    {
     "data": {
      "text/plain": [
       "[<matplotlib.lines.Line2D at 0x7fc661ceb1f0>]"
      ]
     },
     "execution_count": 84,
     "metadata": {},
     "output_type": "execute_result"
    },
    {
     "data": {
      "image/png": "[encoded data removed]",
      "text/plain": [
       "<Figure size 432x288 with 1 Axes>"
      ]
     },
     "metadata": {
      "needs_background": "light"
     },
     "output_type": "display_data"
    }
   ],
   "source": [
    "duration_max = dataArmyNoNan.filter(['duration_max'])\n",
    "duration_max.describe()\n",
    "plt.plot(duration_max)"
   ]
  },
  {
   "cell_type": "code",
   "execution_count": 82,
   "metadata": {},
   "outputs": [
    {
     "data": {
      "text/plain": [
       "[<matplotlib.lines.Line2D at 0x7fc661abac10>]"
      ]
     },
     "execution_count": 82,
     "metadata": {},
     "output_type": "execute_result"
    },
    {
     "data": {
      "image/png": "[encoded data removed]",
      "text/plain": [
       "<Figure size 432x288 with 1 Axes>"
      ]
     },
     "metadata": {
      "needs_background": "light"
     },
     "output_type": "display_data"
    }
   ],
   "source": [
    "duration_min = dataArmyNoNan.filter(['duration_min'])\n",
    "duration_min.describe()\n",
    "plt.plot(duration_min)"
   ]
  },
  {
   "cell_type": "code",
   "execution_count": 79,
   "metadata": {},
   "outputs": [
    {
     "data": {
      "text/plain": [
       "(array([794.,  20.,  10.,   1.,   1.,   0.,   0.,   1.,   0.,   1.]),\n",
       " array([     0.,  18432.,  36864.,  55296.,  73728.,  92160., 110592.,\n",
       "        129024., 147456., 165888., 184320.]),\n",
       " <BarContainer object of 10 artists>)"
      ]
     },
     "execution_count": 79,
     "metadata": {},
     "output_type": "execute_result"
    },
    {
     "data": {
      "image/png": "[encoded data removed]",
      "text/plain": [
       "<Figure size 432x288 with 1 Axes>"
      ]
     },
     "metadata": {
      "needs_background": "light"
     },
     "output_type": "display_data"
    }
   ],
   "source": [
    "plt.hist(duration_min)"
   ]
  },
  {
   "cell_type": "code",
   "execution_count": null,
   "metadata": {},
   "outputs": [],
   "source": []
  }
 ],
 "metadata": {
  "kernelspec": {
   "display_name": "Python 3",
   "language": "python",
   "name": "python3"
  },
  "language_info": {
   "codemirror_mode": {
    "name": "ipython",
    "version": 3
   },
   "file_extension": ".py",
   "mimetype": "text/x-python",
   "name": "python",
   "nbconvert_exporter": "python",
   "pygments_lexer": "ipython3",
   "version": "3.8.5"
  }
 },
 "nbformat": 4,
 "nbformat_minor": 4
}
